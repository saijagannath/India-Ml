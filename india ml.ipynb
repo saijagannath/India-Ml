{
 "cells": [
  {
   "cell_type": "code",
   "execution_count": 126,
   "metadata": {},
   "outputs": [],
   "source": [
    "import numpy as np\n",
    "import pandas as pd "
   ]
  },
  {
   "cell_type": "code",
   "execution_count": 127,
   "metadata": {},
   "outputs": [],
   "source": [
    "train = pd.read_csv(\"D://great learning//ensamble//INDIA ML//train_u5jK80M//train.csv\")"
   ]
  },
  {
   "cell_type": "code",
   "execution_count": 128,
   "metadata": {},
   "outputs": [],
   "source": [
    "test = pd.read_csv(\"D://great learning//ensamble//INDIA ML//test_UspLgmQ//test.csv\")"
   ]
  },
  {
   "cell_type": "code",
   "execution_count": 129,
   "metadata": {},
   "outputs": [
    {
     "data": {
      "text/html": [
       "<div>\n",
       "<style scoped>\n",
       "    .dataframe tbody tr th:only-of-type {\n",
       "        vertical-align: middle;\n",
       "    }\n",
       "\n",
       "    .dataframe tbody tr th {\n",
       "        vertical-align: top;\n",
       "    }\n",
       "\n",
       "    .dataframe thead th {\n",
       "        text-align: right;\n",
       "    }\n",
       "</style>\n",
       "<table border=\"1\" class=\"dataframe\">\n",
       "  <thead>\n",
       "    <tr style=\"text-align: right;\">\n",
       "      <th></th>\n",
       "      <th>loan_id</th>\n",
       "      <th>source</th>\n",
       "      <th>financial_institution</th>\n",
       "      <th>interest_rate</th>\n",
       "      <th>unpaid_principal_bal</th>\n",
       "      <th>loan_term</th>\n",
       "      <th>origination_date</th>\n",
       "      <th>first_payment_date</th>\n",
       "      <th>loan_to_value</th>\n",
       "      <th>number_of_borrowers</th>\n",
       "      <th>...</th>\n",
       "      <th>m4</th>\n",
       "      <th>m5</th>\n",
       "      <th>m6</th>\n",
       "      <th>m7</th>\n",
       "      <th>m8</th>\n",
       "      <th>m9</th>\n",
       "      <th>m10</th>\n",
       "      <th>m11</th>\n",
       "      <th>m12</th>\n",
       "      <th>m13</th>\n",
       "    </tr>\n",
       "  </thead>\n",
       "  <tbody>\n",
       "    <tr>\n",
       "      <th>0</th>\n",
       "      <td>268055008619</td>\n",
       "      <td>Z</td>\n",
       "      <td>Turner, Baldwin and Rhodes</td>\n",
       "      <td>4.250</td>\n",
       "      <td>214000</td>\n",
       "      <td>360</td>\n",
       "      <td>2012-03-01</td>\n",
       "      <td>05/2012</td>\n",
       "      <td>95</td>\n",
       "      <td>1.0</td>\n",
       "      <td>...</td>\n",
       "      <td>0</td>\n",
       "      <td>0</td>\n",
       "      <td>0</td>\n",
       "      <td>1</td>\n",
       "      <td>0</td>\n",
       "      <td>0</td>\n",
       "      <td>0</td>\n",
       "      <td>0</td>\n",
       "      <td>0</td>\n",
       "      <td>1</td>\n",
       "    </tr>\n",
       "    <tr>\n",
       "      <th>1</th>\n",
       "      <td>672831657627</td>\n",
       "      <td>Y</td>\n",
       "      <td>Swanson, Newton and Miller</td>\n",
       "      <td>4.875</td>\n",
       "      <td>144000</td>\n",
       "      <td>360</td>\n",
       "      <td>2012-01-01</td>\n",
       "      <td>03/2012</td>\n",
       "      <td>72</td>\n",
       "      <td>1.0</td>\n",
       "      <td>...</td>\n",
       "      <td>0</td>\n",
       "      <td>0</td>\n",
       "      <td>0</td>\n",
       "      <td>0</td>\n",
       "      <td>0</td>\n",
       "      <td>0</td>\n",
       "      <td>0</td>\n",
       "      <td>1</td>\n",
       "      <td>0</td>\n",
       "      <td>1</td>\n",
       "    </tr>\n",
       "    <tr>\n",
       "      <th>2</th>\n",
       "      <td>742515242108</td>\n",
       "      <td>Z</td>\n",
       "      <td>Thornton-Davis</td>\n",
       "      <td>3.250</td>\n",
       "      <td>366000</td>\n",
       "      <td>180</td>\n",
       "      <td>2012-01-01</td>\n",
       "      <td>03/2012</td>\n",
       "      <td>49</td>\n",
       "      <td>1.0</td>\n",
       "      <td>...</td>\n",
       "      <td>0</td>\n",
       "      <td>0</td>\n",
       "      <td>0</td>\n",
       "      <td>0</td>\n",
       "      <td>0</td>\n",
       "      <td>0</td>\n",
       "      <td>0</td>\n",
       "      <td>0</td>\n",
       "      <td>0</td>\n",
       "      <td>1</td>\n",
       "    </tr>\n",
       "    <tr>\n",
       "      <th>3</th>\n",
       "      <td>601385667462</td>\n",
       "      <td>X</td>\n",
       "      <td>OTHER</td>\n",
       "      <td>4.750</td>\n",
       "      <td>135000</td>\n",
       "      <td>360</td>\n",
       "      <td>2012-02-01</td>\n",
       "      <td>04/2012</td>\n",
       "      <td>46</td>\n",
       "      <td>2.0</td>\n",
       "      <td>...</td>\n",
       "      <td>0</td>\n",
       "      <td>0</td>\n",
       "      <td>0</td>\n",
       "      <td>0</td>\n",
       "      <td>0</td>\n",
       "      <td>1</td>\n",
       "      <td>1</td>\n",
       "      <td>1</td>\n",
       "      <td>1</td>\n",
       "      <td>1</td>\n",
       "    </tr>\n",
       "    <tr>\n",
       "      <th>4</th>\n",
       "      <td>273870029961</td>\n",
       "      <td>X</td>\n",
       "      <td>OTHER</td>\n",
       "      <td>4.750</td>\n",
       "      <td>124000</td>\n",
       "      <td>360</td>\n",
       "      <td>2012-02-01</td>\n",
       "      <td>04/2012</td>\n",
       "      <td>80</td>\n",
       "      <td>1.0</td>\n",
       "      <td>...</td>\n",
       "      <td>3</td>\n",
       "      <td>4</td>\n",
       "      <td>5</td>\n",
       "      <td>6</td>\n",
       "      <td>7</td>\n",
       "      <td>8</td>\n",
       "      <td>9</td>\n",
       "      <td>10</td>\n",
       "      <td>11</td>\n",
       "      <td>1</td>\n",
       "    </tr>\n",
       "  </tbody>\n",
       "</table>\n",
       "<p>5 rows × 29 columns</p>\n",
       "</div>"
      ],
      "text/plain": [
       "        loan_id source       financial_institution  interest_rate  \\\n",
       "0  268055008619      Z  Turner, Baldwin and Rhodes          4.250   \n",
       "1  672831657627      Y  Swanson, Newton and Miller          4.875   \n",
       "2  742515242108      Z              Thornton-Davis          3.250   \n",
       "3  601385667462      X                       OTHER          4.750   \n",
       "4  273870029961      X                       OTHER          4.750   \n",
       "\n",
       "   unpaid_principal_bal  loan_term origination_date first_payment_date  \\\n",
       "0                214000        360       2012-03-01            05/2012   \n",
       "1                144000        360       2012-01-01            03/2012   \n",
       "2                366000        180       2012-01-01            03/2012   \n",
       "3                135000        360       2012-02-01            04/2012   \n",
       "4                124000        360       2012-02-01            04/2012   \n",
       "\n",
       "   loan_to_value  number_of_borrowers ...   m4  m5 m6  m7  m8  m9  m10  m11  \\\n",
       "0             95                  1.0 ...    0   0  0   1   0   0    0    0   \n",
       "1             72                  1.0 ...    0   0  0   0   0   0    0    1   \n",
       "2             49                  1.0 ...    0   0  0   0   0   0    0    0   \n",
       "3             46                  2.0 ...    0   0  0   0   0   1    1    1   \n",
       "4             80                  1.0 ...    3   4  5   6   7   8    9   10   \n",
       "\n",
       "   m12  m13  \n",
       "0    0    1  \n",
       "1    0    1  \n",
       "2    0    1  \n",
       "3    1    1  \n",
       "4   11    1  \n",
       "\n",
       "[5 rows x 29 columns]"
      ]
     },
     "execution_count": 129,
     "metadata": {},
     "output_type": "execute_result"
    }
   ],
   "source": [
    "train.head()"
   ]
  },
  {
   "cell_type": "code",
   "execution_count": 130,
   "metadata": {},
   "outputs": [
    {
     "data": {
      "text/html": [
       "<div>\n",
       "<style scoped>\n",
       "    .dataframe tbody tr th:only-of-type {\n",
       "        vertical-align: middle;\n",
       "    }\n",
       "\n",
       "    .dataframe tbody tr th {\n",
       "        vertical-align: top;\n",
       "    }\n",
       "\n",
       "    .dataframe thead th {\n",
       "        text-align: right;\n",
       "    }\n",
       "</style>\n",
       "<table border=\"1\" class=\"dataframe\">\n",
       "  <thead>\n",
       "    <tr style=\"text-align: right;\">\n",
       "      <th></th>\n",
       "      <th>loan_id</th>\n",
       "      <th>source</th>\n",
       "      <th>financial_institution</th>\n",
       "      <th>interest_rate</th>\n",
       "      <th>unpaid_principal_bal</th>\n",
       "      <th>loan_term</th>\n",
       "      <th>origination_date</th>\n",
       "      <th>first_payment_date</th>\n",
       "      <th>loan_to_value</th>\n",
       "      <th>number_of_borrowers</th>\n",
       "      <th>...</th>\n",
       "      <th>m3</th>\n",
       "      <th>m4</th>\n",
       "      <th>m5</th>\n",
       "      <th>m6</th>\n",
       "      <th>m7</th>\n",
       "      <th>m8</th>\n",
       "      <th>m9</th>\n",
       "      <th>m10</th>\n",
       "      <th>m11</th>\n",
       "      <th>m12</th>\n",
       "    </tr>\n",
       "  </thead>\n",
       "  <tbody>\n",
       "    <tr>\n",
       "      <th>0</th>\n",
       "      <td>1</td>\n",
       "      <td>Y</td>\n",
       "      <td>Browning-Hart</td>\n",
       "      <td>3.875</td>\n",
       "      <td>417000</td>\n",
       "      <td>360</td>\n",
       "      <td>01/02/12</td>\n",
       "      <td>Apr-12</td>\n",
       "      <td>75</td>\n",
       "      <td>1</td>\n",
       "      <td>...</td>\n",
       "      <td>0</td>\n",
       "      <td>0</td>\n",
       "      <td>0</td>\n",
       "      <td>0</td>\n",
       "      <td>0</td>\n",
       "      <td>0</td>\n",
       "      <td>0</td>\n",
       "      <td>0</td>\n",
       "      <td>0</td>\n",
       "      <td>0</td>\n",
       "    </tr>\n",
       "    <tr>\n",
       "      <th>1</th>\n",
       "      <td>2</td>\n",
       "      <td>X</td>\n",
       "      <td>OTHER</td>\n",
       "      <td>4.500</td>\n",
       "      <td>113000</td>\n",
       "      <td>360</td>\n",
       "      <td>01/02/12</td>\n",
       "      <td>Apr-12</td>\n",
       "      <td>80</td>\n",
       "      <td>2</td>\n",
       "      <td>...</td>\n",
       "      <td>0</td>\n",
       "      <td>0</td>\n",
       "      <td>0</td>\n",
       "      <td>0</td>\n",
       "      <td>0</td>\n",
       "      <td>0</td>\n",
       "      <td>0</td>\n",
       "      <td>0</td>\n",
       "      <td>0</td>\n",
       "      <td>0</td>\n",
       "    </tr>\n",
       "    <tr>\n",
       "      <th>2</th>\n",
       "      <td>3</td>\n",
       "      <td>Y</td>\n",
       "      <td>OTHER</td>\n",
       "      <td>4.500</td>\n",
       "      <td>72000</td>\n",
       "      <td>360</td>\n",
       "      <td>01/01/12</td>\n",
       "      <td>Mar-12</td>\n",
       "      <td>75</td>\n",
       "      <td>1</td>\n",
       "      <td>...</td>\n",
       "      <td>0</td>\n",
       "      <td>0</td>\n",
       "      <td>0</td>\n",
       "      <td>0</td>\n",
       "      <td>0</td>\n",
       "      <td>0</td>\n",
       "      <td>0</td>\n",
       "      <td>0</td>\n",
       "      <td>0</td>\n",
       "      <td>0</td>\n",
       "    </tr>\n",
       "    <tr>\n",
       "      <th>3</th>\n",
       "      <td>4</td>\n",
       "      <td>X</td>\n",
       "      <td>Miller, Mcclure and Allen</td>\n",
       "      <td>4.125</td>\n",
       "      <td>123000</td>\n",
       "      <td>180</td>\n",
       "      <td>01/02/12</td>\n",
       "      <td>Apr-12</td>\n",
       "      <td>41</td>\n",
       "      <td>2</td>\n",
       "      <td>...</td>\n",
       "      <td>0</td>\n",
       "      <td>0</td>\n",
       "      <td>0</td>\n",
       "      <td>0</td>\n",
       "      <td>0</td>\n",
       "      <td>0</td>\n",
       "      <td>0</td>\n",
       "      <td>0</td>\n",
       "      <td>0</td>\n",
       "      <td>0</td>\n",
       "    </tr>\n",
       "    <tr>\n",
       "      <th>4</th>\n",
       "      <td>5</td>\n",
       "      <td>X</td>\n",
       "      <td>Browning-Hart</td>\n",
       "      <td>3.250</td>\n",
       "      <td>166000</td>\n",
       "      <td>180</td>\n",
       "      <td>01/02/12</td>\n",
       "      <td>Apr-12</td>\n",
       "      <td>53</td>\n",
       "      <td>2</td>\n",
       "      <td>...</td>\n",
       "      <td>0</td>\n",
       "      <td>0</td>\n",
       "      <td>0</td>\n",
       "      <td>0</td>\n",
       "      <td>0</td>\n",
       "      <td>0</td>\n",
       "      <td>0</td>\n",
       "      <td>0</td>\n",
       "      <td>0</td>\n",
       "      <td>0</td>\n",
       "    </tr>\n",
       "  </tbody>\n",
       "</table>\n",
       "<p>5 rows × 28 columns</p>\n",
       "</div>"
      ],
      "text/plain": [
       "   loan_id source      financial_institution  interest_rate  \\\n",
       "0        1      Y              Browning-Hart          3.875   \n",
       "1        2      X                      OTHER          4.500   \n",
       "2        3      Y                      OTHER          4.500   \n",
       "3        4      X  Miller, Mcclure and Allen          4.125   \n",
       "4        5      X              Browning-Hart          3.250   \n",
       "\n",
       "   unpaid_principal_bal  loan_term origination_date first_payment_date  \\\n",
       "0                417000        360         01/02/12             Apr-12   \n",
       "1                113000        360         01/02/12             Apr-12   \n",
       "2                 72000        360         01/01/12             Mar-12   \n",
       "3                123000        180         01/02/12             Apr-12   \n",
       "4                166000        180         01/02/12             Apr-12   \n",
       "\n",
       "   loan_to_value  number_of_borrowers ...   m3  m4 m5  m6  m7  m8  m9  m10  \\\n",
       "0             75                    1 ...    0   0  0   0   0   0   0    0   \n",
       "1             80                    2 ...    0   0  0   0   0   0   0    0   \n",
       "2             75                    1 ...    0   0  0   0   0   0   0    0   \n",
       "3             41                    2 ...    0   0  0   0   0   0   0    0   \n",
       "4             53                    2 ...    0   0  0   0   0   0   0    0   \n",
       "\n",
       "   m11  m12  \n",
       "0    0    0  \n",
       "1    0    0  \n",
       "2    0    0  \n",
       "3    0    0  \n",
       "4    0    0  \n",
       "\n",
       "[5 rows x 28 columns]"
      ]
     },
     "execution_count": 130,
     "metadata": {},
     "output_type": "execute_result"
    }
   ],
   "source": [
    "test.head()"
   ]
  },
  {
   "cell_type": "code",
   "execution_count": 131,
   "metadata": {},
   "outputs": [
    {
     "data": {
      "text/plain": [
       "loan_id                     0\n",
       "source                      0\n",
       "financial_institution       0\n",
       "interest_rate               0\n",
       "unpaid_principal_bal        0\n",
       "loan_term                   0\n",
       "origination_date            0\n",
       "first_payment_date          0\n",
       "loan_to_value               0\n",
       "number_of_borrowers         0\n",
       "debt_to_income_ratio        0\n",
       "borrower_credit_score       0\n",
       "loan_purpose                0\n",
       "insurance_percent           0\n",
       "co-borrower_credit_score    0\n",
       "insurance_type              0\n",
       "m1                          0\n",
       "m2                          0\n",
       "m3                          0\n",
       "m4                          0\n",
       "m5                          0\n",
       "m6                          0\n",
       "m7                          0\n",
       "m8                          0\n",
       "m9                          0\n",
       "m10                         0\n",
       "m11                         0\n",
       "m12                         0\n",
       "m13                         0\n",
       "dtype: int64"
      ]
     },
     "execution_count": 131,
     "metadata": {},
     "output_type": "execute_result"
    }
   ],
   "source": [
    "train.isnull().sum()"
   ]
  },
  {
   "cell_type": "code",
   "execution_count": 132,
   "metadata": {},
   "outputs": [
    {
     "data": {
      "text/plain": [
       "loan_id                     0\n",
       "source                      0\n",
       "financial_institution       0\n",
       "interest_rate               0\n",
       "unpaid_principal_bal        0\n",
       "loan_term                   0\n",
       "origination_date            0\n",
       "first_payment_date          0\n",
       "loan_to_value               0\n",
       "number_of_borrowers         0\n",
       "debt_to_income_ratio        0\n",
       "borrower_credit_score       0\n",
       "loan_purpose                0\n",
       "insurance_percent           0\n",
       "co-borrower_credit_score    0\n",
       "insurance_type              0\n",
       "m1                          0\n",
       "m2                          0\n",
       "m3                          0\n",
       "m4                          0\n",
       "m5                          0\n",
       "m6                          0\n",
       "m7                          0\n",
       "m8                          0\n",
       "m9                          0\n",
       "m10                         0\n",
       "m11                         0\n",
       "m12                         0\n",
       "dtype: int64"
      ]
     },
     "execution_count": 132,
     "metadata": {},
     "output_type": "execute_result"
    }
   ],
   "source": [
    "test.isnull().sum()"
   ]
  },
  {
   "cell_type": "code",
   "execution_count": 133,
   "metadata": {},
   "outputs": [
    {
     "data": {
      "text/plain": [
       "(116058, 29)"
      ]
     },
     "execution_count": 133,
     "metadata": {},
     "output_type": "execute_result"
    }
   ],
   "source": [
    "train.shape  # SHAPE IS USED TO DESCRIBE THE  NUMBER OF COLUMNS AND ROWS "
   ]
  },
  {
   "cell_type": "code",
   "execution_count": 134,
   "metadata": {},
   "outputs": [
    {
     "data": {
      "text/plain": [
       "(35866, 28)"
      ]
     },
     "execution_count": 134,
     "metadata": {},
     "output_type": "execute_result"
    }
   ],
   "source": [
    "test.shape"
   ]
  },
  {
   "cell_type": "code",
   "execution_count": 135,
   "metadata": {},
   "outputs": [
    {
     "name": "stdout",
     "output_type": "stream",
     "text": [
      "<class 'pandas.core.frame.DataFrame'>\n",
      "RangeIndex: 116058 entries, 0 to 116057\n",
      "Data columns (total 29 columns):\n",
      "loan_id                     116058 non-null int64\n",
      "source                      116058 non-null object\n",
      "financial_institution       116058 non-null object\n",
      "interest_rate               116058 non-null float64\n",
      "unpaid_principal_bal        116058 non-null int64\n",
      "loan_term                   116058 non-null int64\n",
      "origination_date            116058 non-null object\n",
      "first_payment_date          116058 non-null object\n",
      "loan_to_value               116058 non-null int64\n",
      "number_of_borrowers         116058 non-null float64\n",
      "debt_to_income_ratio        116058 non-null float64\n",
      "borrower_credit_score       116058 non-null float64\n",
      "loan_purpose                116058 non-null object\n",
      "insurance_percent           116058 non-null float64\n",
      "co-borrower_credit_score    116058 non-null float64\n",
      "insurance_type              116058 non-null float64\n",
      "m1                          116058 non-null int64\n",
      "m2                          116058 non-null int64\n",
      "m3                          116058 non-null int64\n",
      "m4                          116058 non-null int64\n",
      "m5                          116058 non-null int64\n",
      "m6                          116058 non-null int64\n",
      "m7                          116058 non-null int64\n",
      "m8                          116058 non-null int64\n",
      "m9                          116058 non-null int64\n",
      "m10                         116058 non-null int64\n",
      "m11                         116058 non-null int64\n",
      "m12                         116058 non-null int64\n",
      "m13                         116058 non-null int64\n",
      "dtypes: float64(7), int64(17), object(5)\n",
      "memory usage: 25.7+ MB\n"
     ]
    }
   ],
   "source": [
    "train.info()"
   ]
  },
  {
   "cell_type": "code",
   "execution_count": 136,
   "metadata": {},
   "outputs": [
    {
     "data": {
      "text/html": [
       "<div>\n",
       "<style scoped>\n",
       "    .dataframe tbody tr th:only-of-type {\n",
       "        vertical-align: middle;\n",
       "    }\n",
       "\n",
       "    .dataframe tbody tr th {\n",
       "        vertical-align: top;\n",
       "    }\n",
       "\n",
       "    .dataframe thead th {\n",
       "        text-align: right;\n",
       "    }\n",
       "</style>\n",
       "<table border=\"1\" class=\"dataframe\">\n",
       "  <thead>\n",
       "    <tr style=\"text-align: right;\">\n",
       "      <th></th>\n",
       "      <th>loan_id</th>\n",
       "      <th>interest_rate</th>\n",
       "      <th>unpaid_principal_bal</th>\n",
       "      <th>loan_term</th>\n",
       "      <th>loan_to_value</th>\n",
       "      <th>number_of_borrowers</th>\n",
       "      <th>debt_to_income_ratio</th>\n",
       "      <th>borrower_credit_score</th>\n",
       "      <th>insurance_percent</th>\n",
       "      <th>co-borrower_credit_score</th>\n",
       "      <th>...</th>\n",
       "      <th>m4</th>\n",
       "      <th>m5</th>\n",
       "      <th>m6</th>\n",
       "      <th>m7</th>\n",
       "      <th>m8</th>\n",
       "      <th>m9</th>\n",
       "      <th>m10</th>\n",
       "      <th>m11</th>\n",
       "      <th>m12</th>\n",
       "      <th>m13</th>\n",
       "    </tr>\n",
       "  </thead>\n",
       "  <tbody>\n",
       "    <tr>\n",
       "      <th>count</th>\n",
       "      <td>1.160580e+05</td>\n",
       "      <td>116058.000000</td>\n",
       "      <td>1.160580e+05</td>\n",
       "      <td>116058.000000</td>\n",
       "      <td>116058.000000</td>\n",
       "      <td>116058.000000</td>\n",
       "      <td>116058.000000</td>\n",
       "      <td>116058.000000</td>\n",
       "      <td>116058.000000</td>\n",
       "      <td>116058.000000</td>\n",
       "      <td>...</td>\n",
       "      <td>116058.000000</td>\n",
       "      <td>116058.000000</td>\n",
       "      <td>116058.000000</td>\n",
       "      <td>116058.000000</td>\n",
       "      <td>116058.000000</td>\n",
       "      <td>116058.000000</td>\n",
       "      <td>116058.000000</td>\n",
       "      <td>116058.000000</td>\n",
       "      <td>116058.000000</td>\n",
       "      <td>116058.000000</td>\n",
       "    </tr>\n",
       "    <tr>\n",
       "      <th>mean</th>\n",
       "      <td>5.494155e+11</td>\n",
       "      <td>3.868961</td>\n",
       "      <td>2.082262e+05</td>\n",
       "      <td>292.280997</td>\n",
       "      <td>67.431939</td>\n",
       "      <td>1.593186</td>\n",
       "      <td>30.742293</td>\n",
       "      <td>769.926778</td>\n",
       "      <td>2.786288</td>\n",
       "      <td>459.611565</td>\n",
       "      <td>...</td>\n",
       "      <td>0.002180</td>\n",
       "      <td>0.003533</td>\n",
       "      <td>0.003421</td>\n",
       "      <td>0.004162</td>\n",
       "      <td>0.004825</td>\n",
       "      <td>0.005359</td>\n",
       "      <td>0.006617</td>\n",
       "      <td>0.007109</td>\n",
       "      <td>0.008065</td>\n",
       "      <td>0.005480</td>\n",
       "    </tr>\n",
       "    <tr>\n",
       "      <th>std</th>\n",
       "      <td>2.597560e+11</td>\n",
       "      <td>0.461020</td>\n",
       "      <td>1.146851e+05</td>\n",
       "      <td>89.762415</td>\n",
       "      <td>17.291719</td>\n",
       "      <td>0.491242</td>\n",
       "      <td>9.730798</td>\n",
       "      <td>42.210706</td>\n",
       "      <td>8.096464</td>\n",
       "      <td>381.946926</td>\n",
       "      <td>...</td>\n",
       "      <td>0.062161</td>\n",
       "      <td>0.082638</td>\n",
       "      <td>0.087553</td>\n",
       "      <td>0.100961</td>\n",
       "      <td>0.113128</td>\n",
       "      <td>0.128242</td>\n",
       "      <td>0.148430</td>\n",
       "      <td>0.162884</td>\n",
       "      <td>0.178128</td>\n",
       "      <td>0.073824</td>\n",
       "    </tr>\n",
       "    <tr>\n",
       "      <th>min</th>\n",
       "      <td>1.000009e+11</td>\n",
       "      <td>2.250000</td>\n",
       "      <td>1.100000e+04</td>\n",
       "      <td>60.000000</td>\n",
       "      <td>6.000000</td>\n",
       "      <td>1.000000</td>\n",
       "      <td>1.000000</td>\n",
       "      <td>0.000000</td>\n",
       "      <td>0.000000</td>\n",
       "      <td>0.000000</td>\n",
       "      <td>...</td>\n",
       "      <td>0.000000</td>\n",
       "      <td>0.000000</td>\n",
       "      <td>0.000000</td>\n",
       "      <td>0.000000</td>\n",
       "      <td>0.000000</td>\n",
       "      <td>0.000000</td>\n",
       "      <td>0.000000</td>\n",
       "      <td>0.000000</td>\n",
       "      <td>0.000000</td>\n",
       "      <td>0.000000</td>\n",
       "    </tr>\n",
       "    <tr>\n",
       "      <th>25%</th>\n",
       "      <td>3.244656e+11</td>\n",
       "      <td>3.500000</td>\n",
       "      <td>1.200000e+05</td>\n",
       "      <td>180.000000</td>\n",
       "      <td>57.000000</td>\n",
       "      <td>1.000000</td>\n",
       "      <td>23.000000</td>\n",
       "      <td>751.000000</td>\n",
       "      <td>0.000000</td>\n",
       "      <td>0.000000</td>\n",
       "      <td>...</td>\n",
       "      <td>0.000000</td>\n",
       "      <td>0.000000</td>\n",
       "      <td>0.000000</td>\n",
       "      <td>0.000000</td>\n",
       "      <td>0.000000</td>\n",
       "      <td>0.000000</td>\n",
       "      <td>0.000000</td>\n",
       "      <td>0.000000</td>\n",
       "      <td>0.000000</td>\n",
       "      <td>0.000000</td>\n",
       "    </tr>\n",
       "    <tr>\n",
       "      <th>50%</th>\n",
       "      <td>5.486239e+11</td>\n",
       "      <td>3.875000</td>\n",
       "      <td>1.830000e+05</td>\n",
       "      <td>360.000000</td>\n",
       "      <td>72.000000</td>\n",
       "      <td>2.000000</td>\n",
       "      <td>31.000000</td>\n",
       "      <td>782.000000</td>\n",
       "      <td>0.000000</td>\n",
       "      <td>740.000000</td>\n",
       "      <td>...</td>\n",
       "      <td>0.000000</td>\n",
       "      <td>0.000000</td>\n",
       "      <td>0.000000</td>\n",
       "      <td>0.000000</td>\n",
       "      <td>0.000000</td>\n",
       "      <td>0.000000</td>\n",
       "      <td>0.000000</td>\n",
       "      <td>0.000000</td>\n",
       "      <td>0.000000</td>\n",
       "      <td>0.000000</td>\n",
       "    </tr>\n",
       "    <tr>\n",
       "      <th>75%</th>\n",
       "      <td>7.743034e+11</td>\n",
       "      <td>4.125000</td>\n",
       "      <td>2.780000e+05</td>\n",
       "      <td>360.000000</td>\n",
       "      <td>80.000000</td>\n",
       "      <td>2.000000</td>\n",
       "      <td>39.000000</td>\n",
       "      <td>800.000000</td>\n",
       "      <td>0.000000</td>\n",
       "      <td>791.000000</td>\n",
       "      <td>...</td>\n",
       "      <td>0.000000</td>\n",
       "      <td>0.000000</td>\n",
       "      <td>0.000000</td>\n",
       "      <td>0.000000</td>\n",
       "      <td>0.000000</td>\n",
       "      <td>0.000000</td>\n",
       "      <td>0.000000</td>\n",
       "      <td>0.000000</td>\n",
       "      <td>0.000000</td>\n",
       "      <td>0.000000</td>\n",
       "    </tr>\n",
       "    <tr>\n",
       "      <th>max</th>\n",
       "      <td>9.999971e+11</td>\n",
       "      <td>6.750000</td>\n",
       "      <td>1.200000e+06</td>\n",
       "      <td>360.000000</td>\n",
       "      <td>97.000000</td>\n",
       "      <td>2.000000</td>\n",
       "      <td>64.000000</td>\n",
       "      <td>840.000000</td>\n",
       "      <td>40.000000</td>\n",
       "      <td>836.000000</td>\n",
       "      <td>...</td>\n",
       "      <td>6.000000</td>\n",
       "      <td>7.000000</td>\n",
       "      <td>8.000000</td>\n",
       "      <td>9.000000</td>\n",
       "      <td>10.000000</td>\n",
       "      <td>11.000000</td>\n",
       "      <td>12.000000</td>\n",
       "      <td>13.000000</td>\n",
       "      <td>14.000000</td>\n",
       "      <td>1.000000</td>\n",
       "    </tr>\n",
       "  </tbody>\n",
       "</table>\n",
       "<p>8 rows × 24 columns</p>\n",
       "</div>"
      ],
      "text/plain": [
       "            loan_id  interest_rate  unpaid_principal_bal      loan_term  \\\n",
       "count  1.160580e+05  116058.000000          1.160580e+05  116058.000000   \n",
       "mean   5.494155e+11       3.868961          2.082262e+05     292.280997   \n",
       "std    2.597560e+11       0.461020          1.146851e+05      89.762415   \n",
       "min    1.000009e+11       2.250000          1.100000e+04      60.000000   \n",
       "25%    3.244656e+11       3.500000          1.200000e+05     180.000000   \n",
       "50%    5.486239e+11       3.875000          1.830000e+05     360.000000   \n",
       "75%    7.743034e+11       4.125000          2.780000e+05     360.000000   \n",
       "max    9.999971e+11       6.750000          1.200000e+06     360.000000   \n",
       "\n",
       "       loan_to_value  number_of_borrowers  debt_to_income_ratio  \\\n",
       "count  116058.000000        116058.000000         116058.000000   \n",
       "mean       67.431939             1.593186             30.742293   \n",
       "std        17.291719             0.491242              9.730798   \n",
       "min         6.000000             1.000000              1.000000   \n",
       "25%        57.000000             1.000000             23.000000   \n",
       "50%        72.000000             2.000000             31.000000   \n",
       "75%        80.000000             2.000000             39.000000   \n",
       "max        97.000000             2.000000             64.000000   \n",
       "\n",
       "       borrower_credit_score  insurance_percent  co-borrower_credit_score  \\\n",
       "count          116058.000000      116058.000000             116058.000000   \n",
       "mean              769.926778           2.786288                459.611565   \n",
       "std                42.210706           8.096464                381.946926   \n",
       "min                 0.000000           0.000000                  0.000000   \n",
       "25%               751.000000           0.000000                  0.000000   \n",
       "50%               782.000000           0.000000                740.000000   \n",
       "75%               800.000000           0.000000                791.000000   \n",
       "max               840.000000          40.000000                836.000000   \n",
       "\n",
       "           ...                   m4             m5             m6  \\\n",
       "count      ...        116058.000000  116058.000000  116058.000000   \n",
       "mean       ...             0.002180       0.003533       0.003421   \n",
       "std        ...             0.062161       0.082638       0.087553   \n",
       "min        ...             0.000000       0.000000       0.000000   \n",
       "25%        ...             0.000000       0.000000       0.000000   \n",
       "50%        ...             0.000000       0.000000       0.000000   \n",
       "75%        ...             0.000000       0.000000       0.000000   \n",
       "max        ...             6.000000       7.000000       8.000000   \n",
       "\n",
       "                  m7             m8             m9            m10  \\\n",
       "count  116058.000000  116058.000000  116058.000000  116058.000000   \n",
       "mean        0.004162       0.004825       0.005359       0.006617   \n",
       "std         0.100961       0.113128       0.128242       0.148430   \n",
       "min         0.000000       0.000000       0.000000       0.000000   \n",
       "25%         0.000000       0.000000       0.000000       0.000000   \n",
       "50%         0.000000       0.000000       0.000000       0.000000   \n",
       "75%         0.000000       0.000000       0.000000       0.000000   \n",
       "max         9.000000      10.000000      11.000000      12.000000   \n",
       "\n",
       "                 m11            m12            m13  \n",
       "count  116058.000000  116058.000000  116058.000000  \n",
       "mean        0.007109       0.008065       0.005480  \n",
       "std         0.162884       0.178128       0.073824  \n",
       "min         0.000000       0.000000       0.000000  \n",
       "25%         0.000000       0.000000       0.000000  \n",
       "50%         0.000000       0.000000       0.000000  \n",
       "75%         0.000000       0.000000       0.000000  \n",
       "max        13.000000      14.000000       1.000000  \n",
       "\n",
       "[8 rows x 24 columns]"
      ]
     },
     "execution_count": 136,
     "metadata": {},
     "output_type": "execute_result"
    }
   ],
   "source": [
    "train.describe()  # describe function shows the statistical analysis of the Data."
   ]
  },
  {
   "cell_type": "code",
   "execution_count": 137,
   "metadata": {},
   "outputs": [],
   "source": [
    "import matplotlib.pyplot as plt"
   ]
  },
  {
   "cell_type": "code",
   "execution_count": 138,
   "metadata": {},
   "outputs": [],
   "source": [
    "import seaborn as sns"
   ]
  },
  {
   "cell_type": "code",
   "execution_count": 139,
   "metadata": {},
   "outputs": [
    {
     "name": "stderr",
     "output_type": "stream",
     "text": [
      "C:\\Users\\Lenovo\\Anaconda3\\lib\\site-packages\\scipy\\stats\\stats.py:1713: FutureWarning: Using a non-tuple sequence for multidimensional indexing is deprecated; use `arr[tuple(seq)]` instead of `arr[seq]`. In the future this will be interpreted as an array index, `arr[np.array(seq)]`, which will result either in an error or a different result.\n",
      "  return np.add.reduce(sorted[indexer] * weights, axis=axis) / sumval\n"
     ]
    },
    {
     "data": {
      "text/plain": [
       "<matplotlib.axes._subplots.AxesSubplot at 0x2f59e89710>"
      ]
     },
     "execution_count": 139,
     "metadata": {},
     "output_type": "execute_result"
    },
    {
     "data": {
      "image/png": "[encoded data removed]",
      "text/plain": [
       "<Figure size 1080x360 with 1 Axes>"
      ]
     },
     "metadata": {
      "needs_background": "light"
     },
     "output_type": "display_data"
    }
   ],
   "source": [
    "plt.figure(figsize=[15,5])\n",
    "sns.distplot(train.interest_rate)  # most of the interest rates are lies in 3 to 5 ."
   ]
  },
  {
   "cell_type": "code",
   "execution_count": 140,
   "metadata": {},
   "outputs": [
    {
     "data": {
      "text/plain": [
       "X    63858\n",
       "Y    37554\n",
       "Z    14646\n",
       "Name: source, dtype: int64"
      ]
     },
     "execution_count": 140,
     "metadata": {},
     "output_type": "execute_result"
    }
   ],
   "source": [
    "train.source.value_counts()  # This means persons getting the loans from 3 source's"
   ]
  },
  {
   "cell_type": "code",
   "execution_count": 141,
   "metadata": {},
   "outputs": [
    {
     "data": {
      "text/html": [
       "<div>\n",
       "<style scoped>\n",
       "    .dataframe tbody tr th:only-of-type {\n",
       "        vertical-align: middle;\n",
       "    }\n",
       "\n",
       "    .dataframe tbody tr th {\n",
       "        vertical-align: top;\n",
       "    }\n",
       "\n",
       "    .dataframe thead th {\n",
       "        text-align: right;\n",
       "    }\n",
       "</style>\n",
       "<table border=\"1\" class=\"dataframe\">\n",
       "  <thead>\n",
       "    <tr style=\"text-align: right;\">\n",
       "      <th></th>\n",
       "      <th>loan_id</th>\n",
       "      <th>interest_rate</th>\n",
       "      <th>unpaid_principal_bal</th>\n",
       "      <th>loan_term</th>\n",
       "      <th>loan_to_value</th>\n",
       "      <th>number_of_borrowers</th>\n",
       "      <th>debt_to_income_ratio</th>\n",
       "      <th>borrower_credit_score</th>\n",
       "      <th>insurance_percent</th>\n",
       "      <th>co-borrower_credit_score</th>\n",
       "      <th>...</th>\n",
       "      <th>m4</th>\n",
       "      <th>m5</th>\n",
       "      <th>m6</th>\n",
       "      <th>m7</th>\n",
       "      <th>m8</th>\n",
       "      <th>m9</th>\n",
       "      <th>m10</th>\n",
       "      <th>m11</th>\n",
       "      <th>m12</th>\n",
       "      <th>m13</th>\n",
       "    </tr>\n",
       "  </thead>\n",
       "  <tbody>\n",
       "    <tr>\n",
       "      <th>loan_id</th>\n",
       "      <td>1.000000</td>\n",
       "      <td>-0.000902</td>\n",
       "      <td>0.005385</td>\n",
       "      <td>-0.001277</td>\n",
       "      <td>0.000761</td>\n",
       "      <td>0.001739</td>\n",
       "      <td>0.003894</td>\n",
       "      <td>0.001230</td>\n",
       "      <td>0.000948</td>\n",
       "      <td>0.001919</td>\n",
       "      <td>...</td>\n",
       "      <td>-0.007563</td>\n",
       "      <td>-0.005626</td>\n",
       "      <td>-0.005968</td>\n",
       "      <td>-0.006668</td>\n",
       "      <td>-0.002793</td>\n",
       "      <td>-0.003849</td>\n",
       "      <td>-0.002362</td>\n",
       "      <td>-0.004116</td>\n",
       "      <td>-0.003572</td>\n",
       "      <td>-0.002982</td>\n",
       "    </tr>\n",
       "    <tr>\n",
       "      <th>interest_rate</th>\n",
       "      <td>-0.000902</td>\n",
       "      <td>1.000000</td>\n",
       "      <td>-0.002854</td>\n",
       "      <td>0.720734</td>\n",
       "      <td>0.273379</td>\n",
       "      <td>-0.128075</td>\n",
       "      <td>0.181988</td>\n",
       "      <td>-0.210468</td>\n",
       "      <td>0.143116</td>\n",
       "      <td>-0.138013</td>\n",
       "      <td>...</td>\n",
       "      <td>0.030543</td>\n",
       "      <td>0.035726</td>\n",
       "      <td>0.034311</td>\n",
       "      <td>0.032133</td>\n",
       "      <td>0.035393</td>\n",
       "      <td>0.035841</td>\n",
       "      <td>0.037994</td>\n",
       "      <td>0.037051</td>\n",
       "      <td>0.039708</td>\n",
       "      <td>0.054298</td>\n",
       "    </tr>\n",
       "    <tr>\n",
       "      <th>unpaid_principal_bal</th>\n",
       "      <td>0.005385</td>\n",
       "      <td>-0.002854</td>\n",
       "      <td>1.000000</td>\n",
       "      <td>0.192168</td>\n",
       "      <td>0.062447</td>\n",
       "      <td>0.130565</td>\n",
       "      <td>0.073415</td>\n",
       "      <td>0.052061</td>\n",
       "      <td>0.010926</td>\n",
       "      <td>0.132632</td>\n",
       "      <td>...</td>\n",
       "      <td>-0.010344</td>\n",
       "      <td>-0.011461</td>\n",
       "      <td>-0.007814</td>\n",
       "      <td>-0.008912</td>\n",
       "      <td>-0.009228</td>\n",
       "      <td>-0.008983</td>\n",
       "      <td>-0.005866</td>\n",
       "      <td>-0.006412</td>\n",
       "      <td>-0.008254</td>\n",
       "      <td>-0.017120</td>\n",
       "    </tr>\n",
       "    <tr>\n",
       "      <th>loan_term</th>\n",
       "      <td>-0.001277</td>\n",
       "      <td>0.720734</td>\n",
       "      <td>0.192168</td>\n",
       "      <td>1.000000</td>\n",
       "      <td>0.292565</td>\n",
       "      <td>-0.107341</td>\n",
       "      <td>0.137852</td>\n",
       "      <td>-0.072021</td>\n",
       "      <td>0.190762</td>\n",
       "      <td>-0.110268</td>\n",
       "      <td>...</td>\n",
       "      <td>0.011688</td>\n",
       "      <td>0.013645</td>\n",
       "      <td>0.011622</td>\n",
       "      <td>0.011406</td>\n",
       "      <td>0.012954</td>\n",
       "      <td>0.014031</td>\n",
       "      <td>0.015510</td>\n",
       "      <td>0.014814</td>\n",
       "      <td>0.015773</td>\n",
       "      <td>0.023502</td>\n",
       "    </tr>\n",
       "    <tr>\n",
       "      <th>loan_to_value</th>\n",
       "      <td>0.000761</td>\n",
       "      <td>0.273379</td>\n",
       "      <td>0.062447</td>\n",
       "      <td>0.292565</td>\n",
       "      <td>1.000000</td>\n",
       "      <td>-0.100898</td>\n",
       "      <td>0.126993</td>\n",
       "      <td>-0.142574</td>\n",
       "      <td>0.490128</td>\n",
       "      <td>-0.109546</td>\n",
       "      <td>...</td>\n",
       "      <td>0.009826</td>\n",
       "      <td>0.006928</td>\n",
       "      <td>0.010560</td>\n",
       "      <td>0.010243</td>\n",
       "      <td>0.009938</td>\n",
       "      <td>0.008775</td>\n",
       "      <td>0.011103</td>\n",
       "      <td>0.010856</td>\n",
       "      <td>0.010811</td>\n",
       "      <td>0.016357</td>\n",
       "    </tr>\n",
       "    <tr>\n",
       "      <th>number_of_borrowers</th>\n",
       "      <td>0.001739</td>\n",
       "      <td>-0.128075</td>\n",
       "      <td>0.130565</td>\n",
       "      <td>-0.107341</td>\n",
       "      <td>-0.100898</td>\n",
       "      <td>1.000000</td>\n",
       "      <td>-0.134395</td>\n",
       "      <td>0.120120</td>\n",
       "      <td>-0.058976</td>\n",
       "      <td>0.996498</td>\n",
       "      <td>...</td>\n",
       "      <td>-0.023442</td>\n",
       "      <td>-0.024665</td>\n",
       "      <td>-0.022337</td>\n",
       "      <td>-0.023716</td>\n",
       "      <td>-0.027472</td>\n",
       "      <td>-0.028033</td>\n",
       "      <td>-0.025946</td>\n",
       "      <td>-0.027608</td>\n",
       "      <td>-0.029661</td>\n",
       "      <td>-0.039979</td>\n",
       "    </tr>\n",
       "    <tr>\n",
       "      <th>debt_to_income_ratio</th>\n",
       "      <td>0.003894</td>\n",
       "      <td>0.181988</td>\n",
       "      <td>0.073415</td>\n",
       "      <td>0.137852</td>\n",
       "      <td>0.126993</td>\n",
       "      <td>-0.134395</td>\n",
       "      <td>1.000000</td>\n",
       "      <td>-0.184406</td>\n",
       "      <td>0.066946</td>\n",
       "      <td>-0.145145</td>\n",
       "      <td>...</td>\n",
       "      <td>0.015444</td>\n",
       "      <td>0.020784</td>\n",
       "      <td>0.021242</td>\n",
       "      <td>0.021904</td>\n",
       "      <td>0.025402</td>\n",
       "      <td>0.022836</td>\n",
       "      <td>0.024310</td>\n",
       "      <td>0.025467</td>\n",
       "      <td>0.024697</td>\n",
       "      <td>0.038033</td>\n",
       "    </tr>\n",
       "    <tr>\n",
       "      <th>borrower_credit_score</th>\n",
       "      <td>0.001230</td>\n",
       "      <td>-0.210468</td>\n",
       "      <td>0.052061</td>\n",
       "      <td>-0.072021</td>\n",
       "      <td>-0.142574</td>\n",
       "      <td>0.120120</td>\n",
       "      <td>-0.184406</td>\n",
       "      <td>1.000000</td>\n",
       "      <td>-0.062849</td>\n",
       "      <td>0.153952</td>\n",
       "      <td>...</td>\n",
       "      <td>-0.057269</td>\n",
       "      <td>-0.066448</td>\n",
       "      <td>-0.063116</td>\n",
       "      <td>-0.064656</td>\n",
       "      <td>-0.063057</td>\n",
       "      <td>-0.062565</td>\n",
       "      <td>-0.062256</td>\n",
       "      <td>-0.061407</td>\n",
       "      <td>-0.063148</td>\n",
       "      <td>-0.094215</td>\n",
       "    </tr>\n",
       "    <tr>\n",
       "      <th>insurance_percent</th>\n",
       "      <td>0.000948</td>\n",
       "      <td>0.143116</td>\n",
       "      <td>0.010926</td>\n",
       "      <td>0.190762</td>\n",
       "      <td>0.490128</td>\n",
       "      <td>-0.058976</td>\n",
       "      <td>0.066946</td>\n",
       "      <td>-0.062849</td>\n",
       "      <td>1.000000</td>\n",
       "      <td>-0.063370</td>\n",
       "      <td>...</td>\n",
       "      <td>-0.000735</td>\n",
       "      <td>-0.003598</td>\n",
       "      <td>-0.001315</td>\n",
       "      <td>-0.003097</td>\n",
       "      <td>-0.001997</td>\n",
       "      <td>-0.002225</td>\n",
       "      <td>-0.000652</td>\n",
       "      <td>-0.000102</td>\n",
       "      <td>0.000598</td>\n",
       "      <td>0.005722</td>\n",
       "    </tr>\n",
       "    <tr>\n",
       "      <th>co-borrower_credit_score</th>\n",
       "      <td>0.001919</td>\n",
       "      <td>-0.138013</td>\n",
       "      <td>0.132632</td>\n",
       "      <td>-0.110268</td>\n",
       "      <td>-0.109546</td>\n",
       "      <td>0.996498</td>\n",
       "      <td>-0.145145</td>\n",
       "      <td>0.153952</td>\n",
       "      <td>-0.063370</td>\n",
       "      <td>1.000000</td>\n",
       "      <td>...</td>\n",
       "      <td>-0.024716</td>\n",
       "      <td>-0.026393</td>\n",
       "      <td>-0.024080</td>\n",
       "      <td>-0.025423</td>\n",
       "      <td>-0.028770</td>\n",
       "      <td>-0.029218</td>\n",
       "      <td>-0.027354</td>\n",
       "      <td>-0.028930</td>\n",
       "      <td>-0.030878</td>\n",
       "      <td>-0.042651</td>\n",
       "    </tr>\n",
       "    <tr>\n",
       "      <th>insurance_type</th>\n",
       "      <td>-0.000032</td>\n",
       "      <td>0.055883</td>\n",
       "      <td>0.015985</td>\n",
       "      <td>0.028731</td>\n",
       "      <td>0.075813</td>\n",
       "      <td>-0.015769</td>\n",
       "      <td>0.016558</td>\n",
       "      <td>-0.004608</td>\n",
       "      <td>0.145292</td>\n",
       "      <td>-0.016058</td>\n",
       "      <td>...</td>\n",
       "      <td>0.000428</td>\n",
       "      <td>0.003046</td>\n",
       "      <td>0.002948</td>\n",
       "      <td>-0.002356</td>\n",
       "      <td>0.001572</td>\n",
       "      <td>-0.001210</td>\n",
       "      <td>0.002546</td>\n",
       "      <td>-0.000638</td>\n",
       "      <td>-0.000890</td>\n",
       "      <td>0.005999</td>\n",
       "    </tr>\n",
       "    <tr>\n",
       "      <th>m1</th>\n",
       "      <td>0.000389</td>\n",
       "      <td>0.017420</td>\n",
       "      <td>0.001343</td>\n",
       "      <td>0.008976</td>\n",
       "      <td>0.002303</td>\n",
       "      <td>-0.019400</td>\n",
       "      <td>0.013175</td>\n",
       "      <td>-0.036522</td>\n",
       "      <td>-0.002918</td>\n",
       "      <td>-0.020441</td>\n",
       "      <td>...</td>\n",
       "      <td>0.219213</td>\n",
       "      <td>0.192049</td>\n",
       "      <td>0.156476</td>\n",
       "      <td>0.148796</td>\n",
       "      <td>0.139711</td>\n",
       "      <td>0.143186</td>\n",
       "      <td>0.129697</td>\n",
       "      <td>0.128891</td>\n",
       "      <td>0.110718</td>\n",
       "      <td>0.092054</td>\n",
       "    </tr>\n",
       "    <tr>\n",
       "      <th>m2</th>\n",
       "      <td>-0.007118</td>\n",
       "      <td>0.026092</td>\n",
       "      <td>-0.004001</td>\n",
       "      <td>0.011739</td>\n",
       "      <td>0.008938</td>\n",
       "      <td>-0.020742</td>\n",
       "      <td>0.013743</td>\n",
       "      <td>-0.049725</td>\n",
       "      <td>-0.000433</td>\n",
       "      <td>-0.021989</td>\n",
       "      <td>...</td>\n",
       "      <td>0.459826</td>\n",
       "      <td>0.408129</td>\n",
       "      <td>0.354627</td>\n",
       "      <td>0.325504</td>\n",
       "      <td>0.278404</td>\n",
       "      <td>0.270268</td>\n",
       "      <td>0.255760</td>\n",
       "      <td>0.251472</td>\n",
       "      <td>0.225030</td>\n",
       "      <td>0.146921</td>\n",
       "    </tr>\n",
       "    <tr>\n",
       "      <th>m3</th>\n",
       "      <td>-0.000104</td>\n",
       "      <td>0.026727</td>\n",
       "      <td>-0.006026</td>\n",
       "      <td>0.010129</td>\n",
       "      <td>0.007076</td>\n",
       "      <td>-0.018936</td>\n",
       "      <td>0.013324</td>\n",
       "      <td>-0.050835</td>\n",
       "      <td>-0.003246</td>\n",
       "      <td>-0.020095</td>\n",
       "      <td>...</td>\n",
       "      <td>0.573943</td>\n",
       "      <td>0.496987</td>\n",
       "      <td>0.447824</td>\n",
       "      <td>0.406566</td>\n",
       "      <td>0.337897</td>\n",
       "      <td>0.323383</td>\n",
       "      <td>0.305280</td>\n",
       "      <td>0.303852</td>\n",
       "      <td>0.281148</td>\n",
       "      <td>0.157394</td>\n",
       "    </tr>\n",
       "    <tr>\n",
       "      <th>m4</th>\n",
       "      <td>-0.007563</td>\n",
       "      <td>0.030543</td>\n",
       "      <td>-0.010344</td>\n",
       "      <td>0.011688</td>\n",
       "      <td>0.009826</td>\n",
       "      <td>-0.023442</td>\n",
       "      <td>0.015444</td>\n",
       "      <td>-0.057269</td>\n",
       "      <td>-0.000735</td>\n",
       "      <td>-0.024716</td>\n",
       "      <td>...</td>\n",
       "      <td>1.000000</td>\n",
       "      <td>0.684547</td>\n",
       "      <td>0.587581</td>\n",
       "      <td>0.566954</td>\n",
       "      <td>0.494744</td>\n",
       "      <td>0.474123</td>\n",
       "      <td>0.450428</td>\n",
       "      <td>0.435032</td>\n",
       "      <td>0.400727</td>\n",
       "      <td>0.218956</td>\n",
       "    </tr>\n",
       "    <tr>\n",
       "      <th>m5</th>\n",
       "      <td>-0.005626</td>\n",
       "      <td>0.035726</td>\n",
       "      <td>-0.011461</td>\n",
       "      <td>0.013645</td>\n",
       "      <td>0.006928</td>\n",
       "      <td>-0.024665</td>\n",
       "      <td>0.020784</td>\n",
       "      <td>-0.066448</td>\n",
       "      <td>-0.003598</td>\n",
       "      <td>-0.026393</td>\n",
       "      <td>...</td>\n",
       "      <td>0.684547</td>\n",
       "      <td>1.000000</td>\n",
       "      <td>0.667621</td>\n",
       "      <td>0.624085</td>\n",
       "      <td>0.553949</td>\n",
       "      <td>0.550279</td>\n",
       "      <td>0.520029</td>\n",
       "      <td>0.507042</td>\n",
       "      <td>0.471030</td>\n",
       "      <td>0.259529</td>\n",
       "    </tr>\n",
       "    <tr>\n",
       "      <th>m6</th>\n",
       "      <td>-0.005968</td>\n",
       "      <td>0.034311</td>\n",
       "      <td>-0.007814</td>\n",
       "      <td>0.011622</td>\n",
       "      <td>0.010560</td>\n",
       "      <td>-0.022337</td>\n",
       "      <td>0.021242</td>\n",
       "      <td>-0.063116</td>\n",
       "      <td>-0.001315</td>\n",
       "      <td>-0.024080</td>\n",
       "      <td>...</td>\n",
       "      <td>0.587581</td>\n",
       "      <td>0.667621</td>\n",
       "      <td>1.000000</td>\n",
       "      <td>0.778205</td>\n",
       "      <td>0.699499</td>\n",
       "      <td>0.675990</td>\n",
       "      <td>0.637420</td>\n",
       "      <td>0.632097</td>\n",
       "      <td>0.585527</td>\n",
       "      <td>0.287712</td>\n",
       "    </tr>\n",
       "    <tr>\n",
       "      <th>m7</th>\n",
       "      <td>-0.006668</td>\n",
       "      <td>0.032133</td>\n",
       "      <td>-0.008912</td>\n",
       "      <td>0.011406</td>\n",
       "      <td>0.010243</td>\n",
       "      <td>-0.023716</td>\n",
       "      <td>0.021904</td>\n",
       "      <td>-0.064656</td>\n",
       "      <td>-0.003097</td>\n",
       "      <td>-0.025423</td>\n",
       "      <td>...</td>\n",
       "      <td>0.566954</td>\n",
       "      <td>0.624085</td>\n",
       "      <td>0.778205</td>\n",
       "      <td>1.000000</td>\n",
       "      <td>0.786592</td>\n",
       "      <td>0.742966</td>\n",
       "      <td>0.705385</td>\n",
       "      <td>0.694015</td>\n",
       "      <td>0.642545</td>\n",
       "      <td>0.309072</td>\n",
       "    </tr>\n",
       "    <tr>\n",
       "      <th>m8</th>\n",
       "      <td>-0.002793</td>\n",
       "      <td>0.035393</td>\n",
       "      <td>-0.009228</td>\n",
       "      <td>0.012954</td>\n",
       "      <td>0.009938</td>\n",
       "      <td>-0.027472</td>\n",
       "      <td>0.025402</td>\n",
       "      <td>-0.063057</td>\n",
       "      <td>-0.001997</td>\n",
       "      <td>-0.028770</td>\n",
       "      <td>...</td>\n",
       "      <td>0.494744</td>\n",
       "      <td>0.553949</td>\n",
       "      <td>0.699499</td>\n",
       "      <td>0.786592</td>\n",
       "      <td>1.000000</td>\n",
       "      <td>0.842178</td>\n",
       "      <td>0.787306</td>\n",
       "      <td>0.767348</td>\n",
       "      <td>0.721974</td>\n",
       "      <td>0.339362</td>\n",
       "    </tr>\n",
       "    <tr>\n",
       "      <th>m9</th>\n",
       "      <td>-0.003849</td>\n",
       "      <td>0.035841</td>\n",
       "      <td>-0.008983</td>\n",
       "      <td>0.014031</td>\n",
       "      <td>0.008775</td>\n",
       "      <td>-0.028033</td>\n",
       "      <td>0.022836</td>\n",
       "      <td>-0.062565</td>\n",
       "      <td>-0.002225</td>\n",
       "      <td>-0.029218</td>\n",
       "      <td>...</td>\n",
       "      <td>0.474123</td>\n",
       "      <td>0.550279</td>\n",
       "      <td>0.675990</td>\n",
       "      <td>0.742966</td>\n",
       "      <td>0.842178</td>\n",
       "      <td>1.000000</td>\n",
       "      <td>0.870422</td>\n",
       "      <td>0.839257</td>\n",
       "      <td>0.782674</td>\n",
       "      <td>0.369138</td>\n",
       "    </tr>\n",
       "    <tr>\n",
       "      <th>m10</th>\n",
       "      <td>-0.002362</td>\n",
       "      <td>0.037994</td>\n",
       "      <td>-0.005866</td>\n",
       "      <td>0.015510</td>\n",
       "      <td>0.011103</td>\n",
       "      <td>-0.025946</td>\n",
       "      <td>0.024310</td>\n",
       "      <td>-0.062256</td>\n",
       "      <td>-0.000652</td>\n",
       "      <td>-0.027354</td>\n",
       "      <td>...</td>\n",
       "      <td>0.450428</td>\n",
       "      <td>0.520029</td>\n",
       "      <td>0.637420</td>\n",
       "      <td>0.705385</td>\n",
       "      <td>0.787306</td>\n",
       "      <td>0.870422</td>\n",
       "      <td>1.000000</td>\n",
       "      <td>0.879410</td>\n",
       "      <td>0.812710</td>\n",
       "      <td>0.367840</td>\n",
       "    </tr>\n",
       "    <tr>\n",
       "      <th>m11</th>\n",
       "      <td>-0.004116</td>\n",
       "      <td>0.037051</td>\n",
       "      <td>-0.006412</td>\n",
       "      <td>0.014814</td>\n",
       "      <td>0.010856</td>\n",
       "      <td>-0.027608</td>\n",
       "      <td>0.025467</td>\n",
       "      <td>-0.061407</td>\n",
       "      <td>-0.000102</td>\n",
       "      <td>-0.028930</td>\n",
       "      <td>...</td>\n",
       "      <td>0.435032</td>\n",
       "      <td>0.507042</td>\n",
       "      <td>0.632097</td>\n",
       "      <td>0.694015</td>\n",
       "      <td>0.767348</td>\n",
       "      <td>0.839257</td>\n",
       "      <td>0.879410</td>\n",
       "      <td>1.000000</td>\n",
       "      <td>0.878549</td>\n",
       "      <td>0.410213</td>\n",
       "    </tr>\n",
       "    <tr>\n",
       "      <th>m12</th>\n",
       "      <td>-0.003572</td>\n",
       "      <td>0.039708</td>\n",
       "      <td>-0.008254</td>\n",
       "      <td>0.015773</td>\n",
       "      <td>0.010811</td>\n",
       "      <td>-0.029661</td>\n",
       "      <td>0.024697</td>\n",
       "      <td>-0.063148</td>\n",
       "      <td>0.000598</td>\n",
       "      <td>-0.030878</td>\n",
       "      <td>...</td>\n",
       "      <td>0.400727</td>\n",
       "      <td>0.471030</td>\n",
       "      <td>0.585527</td>\n",
       "      <td>0.642545</td>\n",
       "      <td>0.721974</td>\n",
       "      <td>0.782674</td>\n",
       "      <td>0.812710</td>\n",
       "      <td>0.878549</td>\n",
       "      <td>1.000000</td>\n",
       "      <td>0.466442</td>\n",
       "    </tr>\n",
       "    <tr>\n",
       "      <th>m13</th>\n",
       "      <td>-0.002982</td>\n",
       "      <td>0.054298</td>\n",
       "      <td>-0.017120</td>\n",
       "      <td>0.023502</td>\n",
       "      <td>0.016357</td>\n",
       "      <td>-0.039979</td>\n",
       "      <td>0.038033</td>\n",
       "      <td>-0.094215</td>\n",
       "      <td>0.005722</td>\n",
       "      <td>-0.042651</td>\n",
       "      <td>...</td>\n",
       "      <td>0.218956</td>\n",
       "      <td>0.259529</td>\n",
       "      <td>0.287712</td>\n",
       "      <td>0.309072</td>\n",
       "      <td>0.339362</td>\n",
       "      <td>0.369138</td>\n",
       "      <td>0.367840</td>\n",
       "      <td>0.410213</td>\n",
       "      <td>0.466442</td>\n",
       "      <td>1.000000</td>\n",
       "    </tr>\n",
       "  </tbody>\n",
       "</table>\n",
       "<p>24 rows × 24 columns</p>\n",
       "</div>"
      ],
      "text/plain": [
       "                           loan_id  interest_rate  unpaid_principal_bal  \\\n",
       "loan_id                   1.000000      -0.000902              0.005385   \n",
       "interest_rate            -0.000902       1.000000             -0.002854   \n",
       "unpaid_principal_bal      0.005385      -0.002854              1.000000   \n",
       "loan_term                -0.001277       0.720734              0.192168   \n",
       "loan_to_value             0.000761       0.273379              0.062447   \n",
       "number_of_borrowers       0.001739      -0.128075              0.130565   \n",
       "debt_to_income_ratio      0.003894       0.181988              0.073415   \n",
       "borrower_credit_score     0.001230      -0.210468              0.052061   \n",
       "insurance_percent         0.000948       0.143116              0.010926   \n",
       "co-borrower_credit_score  0.001919      -0.138013              0.132632   \n",
       "insurance_type           -0.000032       0.055883              0.015985   \n",
       "m1                        0.000389       0.017420              0.001343   \n",
       "m2                       -0.007118       0.026092             -0.004001   \n",
       "m3                       -0.000104       0.026727             -0.006026   \n",
       "m4                       -0.007563       0.030543             -0.010344   \n",
       "m5                       -0.005626       0.035726             -0.011461   \n",
       "m6                       -0.005968       0.034311             -0.007814   \n",
       "m7                       -0.006668       0.032133             -0.008912   \n",
       "m8                       -0.002793       0.035393             -0.009228   \n",
       "m9                       -0.003849       0.035841             -0.008983   \n",
       "m10                      -0.002362       0.037994             -0.005866   \n",
       "m11                      -0.004116       0.037051             -0.006412   \n",
       "m12                      -0.003572       0.039708             -0.008254   \n",
       "m13                      -0.002982       0.054298             -0.017120   \n",
       "\n",
       "                          loan_term  loan_to_value  number_of_borrowers  \\\n",
       "loan_id                   -0.001277       0.000761             0.001739   \n",
       "interest_rate              0.720734       0.273379            -0.128075   \n",
       "unpaid_principal_bal       0.192168       0.062447             0.130565   \n",
       "loan_term                  1.000000       0.292565            -0.107341   \n",
       "loan_to_value              0.292565       1.000000            -0.100898   \n",
       "number_of_borrowers       -0.107341      -0.100898             1.000000   \n",
       "debt_to_income_ratio       0.137852       0.126993            -0.134395   \n",
       "borrower_credit_score     -0.072021      -0.142574             0.120120   \n",
       "insurance_percent          0.190762       0.490128            -0.058976   \n",
       "co-borrower_credit_score  -0.110268      -0.109546             0.996498   \n",
       "insurance_type             0.028731       0.075813            -0.015769   \n",
       "m1                         0.008976       0.002303            -0.019400   \n",
       "m2                         0.011739       0.008938            -0.020742   \n",
       "m3                         0.010129       0.007076            -0.018936   \n",
       "m4                         0.011688       0.009826            -0.023442   \n",
       "m5                         0.013645       0.006928            -0.024665   \n",
       "m6                         0.011622       0.010560            -0.022337   \n",
       "m7                         0.011406       0.010243            -0.023716   \n",
       "m8                         0.012954       0.009938            -0.027472   \n",
       "m9                         0.014031       0.008775            -0.028033   \n",
       "m10                        0.015510       0.011103            -0.025946   \n",
       "m11                        0.014814       0.010856            -0.027608   \n",
       "m12                        0.015773       0.010811            -0.029661   \n",
       "m13                        0.023502       0.016357            -0.039979   \n",
       "\n",
       "                          debt_to_income_ratio  borrower_credit_score  \\\n",
       "loan_id                               0.003894               0.001230   \n",
       "interest_rate                         0.181988              -0.210468   \n",
       "unpaid_principal_bal                  0.073415               0.052061   \n",
       "loan_term                             0.137852              -0.072021   \n",
       "loan_to_value                         0.126993              -0.142574   \n",
       "number_of_borrowers                  -0.134395               0.120120   \n",
       "debt_to_income_ratio                  1.000000              -0.184406   \n",
       "borrower_credit_score                -0.184406               1.000000   \n",
       "insurance_percent                     0.066946              -0.062849   \n",
       "co-borrower_credit_score             -0.145145               0.153952   \n",
       "insurance_type                        0.016558              -0.004608   \n",
       "m1                                    0.013175              -0.036522   \n",
       "m2                                    0.013743              -0.049725   \n",
       "m3                                    0.013324              -0.050835   \n",
       "m4                                    0.015444              -0.057269   \n",
       "m5                                    0.020784              -0.066448   \n",
       "m6                                    0.021242              -0.063116   \n",
       "m7                                    0.021904              -0.064656   \n",
       "m8                                    0.025402              -0.063057   \n",
       "m9                                    0.022836              -0.062565   \n",
       "m10                                   0.024310              -0.062256   \n",
       "m11                                   0.025467              -0.061407   \n",
       "m12                                   0.024697              -0.063148   \n",
       "m13                                   0.038033              -0.094215   \n",
       "\n",
       "                          insurance_percent  co-borrower_credit_score  \\\n",
       "loan_id                            0.000948                  0.001919   \n",
       "interest_rate                      0.143116                 -0.138013   \n",
       "unpaid_principal_bal               0.010926                  0.132632   \n",
       "loan_term                          0.190762                 -0.110268   \n",
       "loan_to_value                      0.490128                 -0.109546   \n",
       "number_of_borrowers               -0.058976                  0.996498   \n",
       "debt_to_income_ratio               0.066946                 -0.145145   \n",
       "borrower_credit_score             -0.062849                  0.153952   \n",
       "insurance_percent                  1.000000                 -0.063370   \n",
       "co-borrower_credit_score          -0.063370                  1.000000   \n",
       "insurance_type                     0.145292                 -0.016058   \n",
       "m1                                -0.002918                 -0.020441   \n",
       "m2                                -0.000433                 -0.021989   \n",
       "m3                                -0.003246                 -0.020095   \n",
       "m4                                -0.000735                 -0.024716   \n",
       "m5                                -0.003598                 -0.026393   \n",
       "m6                                -0.001315                 -0.024080   \n",
       "m7                                -0.003097                 -0.025423   \n",
       "m8                                -0.001997                 -0.028770   \n",
       "m9                                -0.002225                 -0.029218   \n",
       "m10                               -0.000652                 -0.027354   \n",
       "m11                               -0.000102                 -0.028930   \n",
       "m12                                0.000598                 -0.030878   \n",
       "m13                                0.005722                 -0.042651   \n",
       "\n",
       "                            ...           m4        m5        m6        m7  \\\n",
       "loan_id                     ...    -0.007563 -0.005626 -0.005968 -0.006668   \n",
       "interest_rate               ...     0.030543  0.035726  0.034311  0.032133   \n",
       "unpaid_principal_bal        ...    -0.010344 -0.011461 -0.007814 -0.008912   \n",
       "loan_term                   ...     0.011688  0.013645  0.011622  0.011406   \n",
       "loan_to_value               ...     0.009826  0.006928  0.010560  0.010243   \n",
       "number_of_borrowers         ...    -0.023442 -0.024665 -0.022337 -0.023716   \n",
       "debt_to_income_ratio        ...     0.015444  0.020784  0.021242  0.021904   \n",
       "borrower_credit_score       ...    -0.057269 -0.066448 -0.063116 -0.064656   \n",
       "insurance_percent           ...    -0.000735 -0.003598 -0.001315 -0.003097   \n",
       "co-borrower_credit_score    ...    -0.024716 -0.026393 -0.024080 -0.025423   \n",
       "insurance_type              ...     0.000428  0.003046  0.002948 -0.002356   \n",
       "m1                          ...     0.219213  0.192049  0.156476  0.148796   \n",
       "m2                          ...     0.459826  0.408129  0.354627  0.325504   \n",
       "m3                          ...     0.573943  0.496987  0.447824  0.406566   \n",
       "m4                          ...     1.000000  0.684547  0.587581  0.566954   \n",
       "m5                          ...     0.684547  1.000000  0.667621  0.624085   \n",
       "m6                          ...     0.587581  0.667621  1.000000  0.778205   \n",
       "m7                          ...     0.566954  0.624085  0.778205  1.000000   \n",
       "m8                          ...     0.494744  0.553949  0.699499  0.786592   \n",
       "m9                          ...     0.474123  0.550279  0.675990  0.742966   \n",
       "m10                         ...     0.450428  0.520029  0.637420  0.705385   \n",
       "m11                         ...     0.435032  0.507042  0.632097  0.694015   \n",
       "m12                         ...     0.400727  0.471030  0.585527  0.642545   \n",
       "m13                         ...     0.218956  0.259529  0.287712  0.309072   \n",
       "\n",
       "                                m8        m9       m10       m11       m12  \\\n",
       "loan_id                  -0.002793 -0.003849 -0.002362 -0.004116 -0.003572   \n",
       "interest_rate             0.035393  0.035841  0.037994  0.037051  0.039708   \n",
       "unpaid_principal_bal     -0.009228 -0.008983 -0.005866 -0.006412 -0.008254   \n",
       "loan_term                 0.012954  0.014031  0.015510  0.014814  0.015773   \n",
       "loan_to_value             0.009938  0.008775  0.011103  0.010856  0.010811   \n",
       "number_of_borrowers      -0.027472 -0.028033 -0.025946 -0.027608 -0.029661   \n",
       "debt_to_income_ratio      0.025402  0.022836  0.024310  0.025467  0.024697   \n",
       "borrower_credit_score    -0.063057 -0.062565 -0.062256 -0.061407 -0.063148   \n",
       "insurance_percent        -0.001997 -0.002225 -0.000652 -0.000102  0.000598   \n",
       "co-borrower_credit_score -0.028770 -0.029218 -0.027354 -0.028930 -0.030878   \n",
       "insurance_type            0.001572 -0.001210  0.002546 -0.000638 -0.000890   \n",
       "m1                        0.139711  0.143186  0.129697  0.128891  0.110718   \n",
       "m2                        0.278404  0.270268  0.255760  0.251472  0.225030   \n",
       "m3                        0.337897  0.323383  0.305280  0.303852  0.281148   \n",
       "m4                        0.494744  0.474123  0.450428  0.435032  0.400727   \n",
       "m5                        0.553949  0.550279  0.520029  0.507042  0.471030   \n",
       "m6                        0.699499  0.675990  0.637420  0.632097  0.585527   \n",
       "m7                        0.786592  0.742966  0.705385  0.694015  0.642545   \n",
       "m8                        1.000000  0.842178  0.787306  0.767348  0.721974   \n",
       "m9                        0.842178  1.000000  0.870422  0.839257  0.782674   \n",
       "m10                       0.787306  0.870422  1.000000  0.879410  0.812710   \n",
       "m11                       0.767348  0.839257  0.879410  1.000000  0.878549   \n",
       "m12                       0.721974  0.782674  0.812710  0.878549  1.000000   \n",
       "m13                       0.339362  0.369138  0.367840  0.410213  0.466442   \n",
       "\n",
       "                               m13  \n",
       "loan_id                  -0.002982  \n",
       "interest_rate             0.054298  \n",
       "unpaid_principal_bal     -0.017120  \n",
       "loan_term                 0.023502  \n",
       "loan_to_value             0.016357  \n",
       "number_of_borrowers      -0.039979  \n",
       "debt_to_income_ratio      0.038033  \n",
       "borrower_credit_score    -0.094215  \n",
       "insurance_percent         0.005722  \n",
       "co-borrower_credit_score -0.042651  \n",
       "insurance_type            0.005999  \n",
       "m1                        0.092054  \n",
       "m2                        0.146921  \n",
       "m3                        0.157394  \n",
       "m4                        0.218956  \n",
       "m5                        0.259529  \n",
       "m6                        0.287712  \n",
       "m7                        0.309072  \n",
       "m8                        0.339362  \n",
       "m9                        0.369138  \n",
       "m10                       0.367840  \n",
       "m11                       0.410213  \n",
       "m12                       0.466442  \n",
       "m13                       1.000000  \n",
       "\n",
       "[24 rows x 24 columns]"
      ]
     },
     "execution_count": 141,
     "metadata": {},
     "output_type": "execute_result"
    }
   ],
   "source": [
    "train.corr() # showing the corelation of all numerical variables"
   ]
  },
  {
   "cell_type": "code",
   "execution_count": 142,
   "metadata": {},
   "outputs": [
    {
     "data": {
      "text/plain": [
       "<matplotlib.axes._subplots.AxesSubplot at 0x2f5a01b6d8>"
      ]
     },
     "execution_count": 142,
     "metadata": {},
     "output_type": "execute_result"
    },
    {
     "data": {
      "image/png": "[encoded data removed]",
      "text/plain": [
       "<Figure size 1080x720 with 2 Axes>"
      ]
     },
     "metadata": {
      "needs_background": "light"
     },
     "output_type": "display_data"
    }
   ],
   "source": [
    "plt.figure(figsize=[15,10])\n",
    "sns.heatmap(train.corr() , annot = True)"
   ]
  },
  {
   "cell_type": "code",
   "execution_count": 143,
   "metadata": {},
   "outputs": [
    {
     "data": {
      "text/plain": [
       "<matplotlib.axes._subplots.AxesSubplot at 0x2f59eaf080>"
      ]
     },
     "execution_count": 143,
     "metadata": {},
     "output_type": "execute_result"
    },
    {
     "data": {
      "image/png": "[encoded data removed]",
      "text/plain": [
       "<Figure size 432x288 with 1 Axes>"
      ]
     },
     "metadata": {
      "needs_background": "light"
     },
     "output_type": "display_data"
    }
   ],
   "source": [
    "sns.countplot(train.first_payment_date)  # 04/2012 for first payment day for most of the customers"
   ]
  },
  {
   "cell_type": "code",
   "execution_count": 144,
   "metadata": {},
   "outputs": [
    {
     "data": {
      "text/plain": [
       "<matplotlib.axes._subplots.AxesSubplot at 0x2f4e3ceac8>"
      ]
     },
     "execution_count": 144,
     "metadata": {},
     "output_type": "execute_result"
    },
    {
     "data": {
      "image/png": "[encoded data removed]",
      "text/plain": [
       "<Figure size 432x288 with 1 Axes>"
      ]
     },
     "metadata": {
      "needs_background": "light"
     },
     "output_type": "display_data"
    }
   ],
   "source": [
    "sns.barplot(x = \"source\",y = \"interest_rate\", data  = train)"
   ]
  },
  {
   "cell_type": "code",
   "execution_count": 145,
   "metadata": {},
   "outputs": [
    {
     "data": {
      "text/plain": [
       "Index(['loan_id', 'source', 'financial_institution', 'interest_rate',\n",
       "       'unpaid_principal_bal', 'loan_term', 'origination_date',\n",
       "       'first_payment_date', 'loan_to_value', 'number_of_borrowers',\n",
       "       'debt_to_income_ratio', 'borrower_credit_score', 'loan_purpose',\n",
       "       'insurance_percent', 'co-borrower_credit_score', 'insurance_type', 'm1',\n",
       "       'm2', 'm3', 'm4', 'm5', 'm6', 'm7', 'm8', 'm9', 'm10', 'm11', 'm12',\n",
       "       'm13'],\n",
       "      dtype='object')"
      ]
     },
     "execution_count": 145,
     "metadata": {},
     "output_type": "execute_result"
    }
   ],
   "source": [
    "train.columns"
   ]
  },
  {
   "cell_type": "code",
   "execution_count": 146,
   "metadata": {},
   "outputs": [
    {
     "data": {
      "text/plain": [
       "A23    58462\n",
       "B12    29383\n",
       "C86    28213\n",
       "Name: loan_purpose, dtype: int64"
      ]
     },
     "execution_count": 146,
     "metadata": {},
     "output_type": "execute_result"
    }
   ],
   "source": [
    "train.loan_purpose.value_counts()"
   ]
  },
  {
   "cell_type": "code",
   "execution_count": 147,
   "metadata": {},
   "outputs": [
    {
     "data": {
      "text/plain": [
       "<matplotlib.axes._subplots.AxesSubplot at 0x2f4e438710>"
      ]
     },
     "execution_count": 147,
     "metadata": {},
     "output_type": "execute_result"
    },
    {
     "data": {
      "image/png": "[encoded data removed]",
      "text/plain": [
       "<Figure size 432x288 with 1 Axes>"
      ]
     },
     "metadata": {
      "needs_background": "light"
     },
     "output_type": "display_data"
    }
   ],
   "source": [
    "sns.countplot(train.loan_purpose)  # A23 has higest value "
   ]
  },
  {
   "cell_type": "code",
   "execution_count": 148,
   "metadata": {},
   "outputs": [
    {
     "data": {
      "text/plain": [
       "<matplotlib.axes._subplots.AxesSubplot at 0x2f4e3e5cf8>"
      ]
     },
     "execution_count": 148,
     "metadata": {},
     "output_type": "execute_result"
    },
    {
     "data": {
      "image/png": "[encoded data removed]",
      "text/plain": [
       "<Figure size 432x288 with 1 Axes>"
      ]
     },
     "metadata": {
      "needs_background": "light"
     },
     "output_type": "display_data"
    }
   ],
   "source": [
    "\n",
    "sns.boxplot(x = \"loan_purpose\" , y = \"interest_rate\" , data = train)"
   ]
  },
  {
   "cell_type": "code",
   "execution_count": 149,
   "metadata": {},
   "outputs": [
    {
     "data": {
      "text/plain": [
       "Index(['loan_id', 'source', 'financial_institution', 'interest_rate',\n",
       "       'unpaid_principal_bal', 'loan_term', 'origination_date',\n",
       "       'first_payment_date', 'loan_to_value', 'number_of_borrowers',\n",
       "       'debt_to_income_ratio', 'borrower_credit_score', 'loan_purpose',\n",
       "       'insurance_percent', 'co-borrower_credit_score', 'insurance_type', 'm1',\n",
       "       'm2', 'm3', 'm4', 'm5', 'm6', 'm7', 'm8', 'm9', 'm10', 'm11', 'm12',\n",
       "       'm13'],\n",
       "      dtype='object')"
      ]
     },
     "execution_count": 149,
     "metadata": {},
     "output_type": "execute_result"
    }
   ],
   "source": [
    "train.columns # remove "
   ]
  },
  {
   "cell_type": "code",
   "execution_count": 25,
   "metadata": {},
   "outputs": [
    {
     "data": {
      "text/plain": [
       "<matplotlib.collections.PathCollection at 0x2f49c87320>"
      ]
     },
     "execution_count": 25,
     "metadata": {},
     "output_type": "execute_result"
    },
    {
     "data": {
      "image/png": "[encoded data removed]",
      "text/plain": [
       "<Figure size 432x288 with 1 Axes>"
      ]
     },
     "metadata": {
      "needs_background": "light"
     },
     "output_type": "display_data"
    }
   ],
   "source": [
    "plt.scatter(x = \"borrower_credit_score\" , y = 'co-borrower_credit_score', data = train)"
   ]
  },
  {
   "cell_type": "code",
   "execution_count": 26,
   "metadata": {},
   "outputs": [
    {
     "data": {
      "text/plain": [
       "OTHER                          49699\n",
       "Browning-Hart                  31852\n",
       "Swanson, Newton and Miller      6874\n",
       "Edwards-Hoffman                 4857\n",
       "Martinez, Duffy and Bird        4715\n",
       "Miller, Mcclure and Allen       3158\n",
       "Nicholson Group                 2116\n",
       "Turner, Baldwin and Rhodes      1846\n",
       "Suarez Inc                      1790\n",
       "Cole, Brooks and Vincent        1642\n",
       "Richards-Walters                1459\n",
       "Taylor, Hunt and Rodriguez      1259\n",
       "Sanchez-Robinson                1193\n",
       "Sanchez, Hays and Wilkerson      853\n",
       "Romero, Woods and Johnson        750\n",
       "Thornton-Davis                   651\n",
       "Anderson-Taylor                  483\n",
       "Richardson Ltd                   473\n",
       "Chapman-Mcmahon                  388\n",
       "Name: financial_institution, dtype: int64"
      ]
     },
     "execution_count": 26,
     "metadata": {},
     "output_type": "execute_result"
    }
   ],
   "source": [
    "train.financial_institution.value_counts()"
   ]
  },
  {
   "cell_type": "code",
   "execution_count": 150,
   "metadata": {},
   "outputs": [
    {
     "data": {
      "text/plain": [
       "Text(0, 0.5, 'Financial Institution ')"
      ]
     },
     "execution_count": 150,
     "metadata": {},
     "output_type": "execute_result"
    },
    {
     "data": {
      "image/png": "[encoded data removed]",
      "text/plain": [
       "<Figure size 1080x360 with 1 Axes>"
      ]
     },
     "metadata": {
      "needs_background": "light"
     },
     "output_type": "display_data"
    }
   ],
   "source": [
    "plt.figure(figsize=[15,5]),\n",
    "sns.countplot(y = train.financial_institution) # Browning-hart has 2nd higest financial institution\n",
    "plt.ylabel(\"Financial Institution \")"
   ]
  },
  {
   "cell_type": "code",
   "execution_count": 151,
   "metadata": {},
   "outputs": [
    {
     "data": {
      "text/plain": [
       "<matplotlib.axes._subplots.AxesSubplot at 0x2f4e77b128>"
      ]
     },
     "execution_count": 151,
     "metadata": {},
     "output_type": "execute_result"
    },
    {
     "data": {
      "image/png": "[encoded data removed]",
      "text/plain": [
       "<Figure size 1080x360 with 1 Axes>"
      ]
     },
     "metadata": {
      "needs_background": "light"
     },
     "output_type": "display_data"
    }
   ],
   "source": [
    "plt.figure(figsize=[15,5])\n",
    "sns.barplot(y =\"financial_institution\" , x = \"interest_rate\" , data = train)"
   ]
  },
  {
   "cell_type": "code",
   "execution_count": 155,
   "metadata": {},
   "outputs": [
    {
     "data": {
      "text/plain": [
       "Index(['interest_rate', 'unpaid_principal_bal', 'loan_term', 'loan_to_value',\n",
       "       'number_of_borrowers', 'debt_to_income_ratio', 'borrower_credit_score',\n",
       "       'loan_purpose', 'insurance_percent', 'co-borrower_credit_score',\n",
       "       'insurance_type', 'm1', 'm2', 'm3', 'm4', 'm5', 'm6', 'm7', 'm8', 'm9',\n",
       "       'm10', 'm11', 'm12', 'm13'],\n",
       "      dtype='object')"
      ]
     },
     "execution_count": 155,
     "metadata": {},
     "output_type": "execute_result"
    }
   ],
   "source": [
    "newtrain.columns"
   ]
  },
  {
   "cell_type": "code",
   "execution_count": 29,
   "metadata": {},
   "outputs": [],
   "source": [
    "# by observing the Above the Above graph most of the instutions interest rates are lies in 3.0 to 4.0"
   ]
  },
  {
   "cell_type": "code",
   "execution_count": 152,
   "metadata": {},
   "outputs": [
    {
     "data": {
      "text/plain": [
       "count    116058.000000\n",
       "mean         67.431939\n",
       "std          17.291719\n",
       "min           6.000000\n",
       "25%          57.000000\n",
       "50%          72.000000\n",
       "75%          80.000000\n",
       "max          97.000000\n",
       "Name: loan_to_value, dtype: float64"
      ]
     },
     "execution_count": 152,
     "metadata": {},
     "output_type": "execute_result"
    }
   ],
   "source": [
    "train.loan_to_value.describe()"
   ]
  },
  {
   "cell_type": "code",
   "execution_count": 153,
   "metadata": {},
   "outputs": [
    {
     "data": {
      "text/plain": [
       "<bound method DataFrame.pivot_table of              loan_id source       financial_institution  interest_rate  \\\n",
       "0       268055008619      Z  Turner, Baldwin and Rhodes          4.250   \n",
       "1       672831657627      Y  Swanson, Newton and Miller          4.875   \n",
       "2       742515242108      Z              Thornton-Davis          3.250   \n",
       "3       601385667462      X                       OTHER          4.750   \n",
       "4       273870029961      X                       OTHER          4.750   \n",
       "5       769060024464      Y               Browning-Hart          4.375   \n",
       "6       148071614687      X                       OTHER          4.000   \n",
       "7       853383953266      Y               Browning-Hart          4.500   \n",
       "8       423590072335      X               Browning-Hart          4.000   \n",
       "9       308990846816      X                       OTHER          4.000   \n",
       "10      154855543213      X                       OTHER          4.125   \n",
       "11      780643872178      X              Richardson Ltd          3.750   \n",
       "12      901409059208      X                       OTHER          4.625   \n",
       "13      102451329914      X  Swanson, Newton and Miller          4.375   \n",
       "14      828404369124      Y             Edwards-Hoffman          5.125   \n",
       "15      895377180786      X                       OTHER          4.125   \n",
       "16      556238051864      Y               Browning-Hart          4.250   \n",
       "17      715484786393      Y               Browning-Hart          4.000   \n",
       "18      428108380103      Y  Swanson, Newton and Miller          4.625   \n",
       "19      252577759845      Y  Turner, Baldwin and Rhodes          4.375   \n",
       "20      590967091253      X                       OTHER          4.625   \n",
       "21      481425798631      Y  Turner, Baldwin and Rhodes          4.500   \n",
       "22      897810643785      X                       OTHER          3.250   \n",
       "23      136868745615      X                       OTHER          3.375   \n",
       "24      134695659987      X                       OTHER          4.500   \n",
       "25      757687253558      X                       OTHER          4.500   \n",
       "26      477152543889      Y                       OTHER          3.750   \n",
       "27      639128211599      X                       OTHER          3.750   \n",
       "28      391938144683      X                       OTHER          3.750   \n",
       "29      276078099929      Y               Browning-Hart          4.125   \n",
       "...              ...    ...                         ...            ...   \n",
       "116028  490158422250      Y               Browning-Hart          3.875   \n",
       "116029  682398480752      X                       OTHER          4.125   \n",
       "116030  225632588669      Z                       OTHER          4.250   \n",
       "116031  647710184336      Y                       OTHER          4.250   \n",
       "116032  914025289101      Y             Nicholson Group          3.250   \n",
       "116033  320367506337      X               Browning-Hart          4.250   \n",
       "116034  119881130219      X                       OTHER          3.875   \n",
       "116035  512858812801      Y               Browning-Hart          4.250   \n",
       "116036  721919696535      Y               Browning-Hart          4.250   \n",
       "116037  448167646048      X  Swanson, Newton and Miller          4.500   \n",
       "116038  896985453137      X                       OTHER          4.000   \n",
       "116039  295198916535      X                       OTHER          3.250   \n",
       "116040  129297217394      Z               Browning-Hart          3.875   \n",
       "116041  286641090882      Y               Browning-Hart          4.375   \n",
       "116042  851008181924      X                       OTHER          3.250   \n",
       "116043  101989961963      X                       OTHER          3.250   \n",
       "116044  967378269093      X               Browning-Hart          4.500   \n",
       "116045  403533707370      X                       OTHER          2.875   \n",
       "116046  325294420616      X                       OTHER          3.875   \n",
       "116047  956715092548      X                       OTHER          3.625   \n",
       "116048  536022970387      X                       OTHER          3.000   \n",
       "116049  745013346682      Y                       OTHER          4.250   \n",
       "116050  627135532331      X               Browning-Hart          3.875   \n",
       "116051  374363980675      X  Swanson, Newton and Miller          4.375   \n",
       "116052  749843159666      X                       OTHER          4.375   \n",
       "116053  382119962287      Y               Browning-Hart          4.125   \n",
       "116054  582803915466      Z                       OTHER          3.000   \n",
       "116055  837922316947      X                       OTHER          3.875   \n",
       "116056  477343182138      X                       OTHER          4.250   \n",
       "116057  763308490661      Z              Thornton-Davis          3.375   \n",
       "\n",
       "        unpaid_principal_bal  loan_term origination_date first_payment_date  \\\n",
       "0                     214000        360       2012-03-01            05/2012   \n",
       "1                     144000        360       2012-01-01            03/2012   \n",
       "2                     366000        180       2012-01-01            03/2012   \n",
       "3                     135000        360       2012-02-01            04/2012   \n",
       "4                     124000        360       2012-02-01            04/2012   \n",
       "5                     150000        360       2012-02-01            04/2012   \n",
       "6                      59000        360       2012-02-01            04/2012   \n",
       "7                     319000        300       2012-01-01            03/2012   \n",
       "8                     520000        360       2012-03-01            05/2012   \n",
       "9                     214000        360       2012-01-01            03/2012   \n",
       "10                     74000        360       2012-02-01            04/2012   \n",
       "11                    192000        121       2012-01-01            03/2012   \n",
       "12                     46000        360       2012-03-01            05/2012   \n",
       "13                    256000        360       2012-01-01            03/2012   \n",
       "14                     84000        360       2012-02-01            04/2012   \n",
       "15                     48000        240       2012-01-01            03/2012   \n",
       "16                     68000        360       2012-02-01            04/2012   \n",
       "17                    142000        360       2012-02-01            04/2012   \n",
       "18                     89000        240       2012-01-01            03/2012   \n",
       "19                    417000        360       2012-02-01            04/2012   \n",
       "20                     55000        360       2012-02-01            04/2012   \n",
       "21                     60000        360       2012-02-01            04/2012   \n",
       "22                    127000        120       2012-01-01            03/2012   \n",
       "23                    215000        180       2012-01-01            03/2012   \n",
       "24                    150000        360       2012-01-01            03/2012   \n",
       "25                    246000        360       2012-02-01            04/2012   \n",
       "26                     77000        180       2012-02-01            04/2012   \n",
       "27                    203000        360       2012-02-01            04/2012   \n",
       "28                    162000        360       2012-02-01            04/2012   \n",
       "29                    264000        360       2012-01-01            03/2012   \n",
       "...                      ...        ...              ...                ...   \n",
       "116028                150000        360       2012-02-01            04/2012   \n",
       "116029                280000        360       2012-01-01            03/2012   \n",
       "116030                280000        360       2012-02-01            04/2012   \n",
       "116031                137000        360       2012-03-01            05/2012   \n",
       "116032                202000        180       2012-01-01            03/2012   \n",
       "116033                329000        360       2012-02-01            04/2012   \n",
       "116034                 38000        240       2012-01-01            03/2012   \n",
       "116035                 84000        360       2012-01-01            03/2012   \n",
       "116036                120000        360       2012-01-01            03/2012   \n",
       "116037                168000        360       2012-01-01            03/2012   \n",
       "116038                108000        360       2012-02-01            04/2012   \n",
       "116039                150000        360       2012-03-01            05/2012   \n",
       "116040                341000        360       2012-01-01            03/2012   \n",
       "116041                194000        360       2012-01-01            03/2012   \n",
       "116042                228000        180       2012-02-01            04/2012   \n",
       "116043                118000        180       2012-03-01            05/2012   \n",
       "116044                 55000        360       2012-02-01            04/2012   \n",
       "116045                194000        180       2012-03-01            05/2012   \n",
       "116046                176000        180       2012-01-01            03/2012   \n",
       "116047                110000        360       2012-02-01            04/2012   \n",
       "116048                 90000        180       2012-03-01            05/2012   \n",
       "116049                492000        360       2012-01-01            03/2012   \n",
       "116050                288000        240       2012-01-01            03/2012   \n",
       "116051                107000        360       2012-01-01            03/2012   \n",
       "116052                 86000        360       2012-02-01            04/2012   \n",
       "116053                153000        360       2012-02-01            04/2012   \n",
       "116054                150000        120       2012-01-01            03/2012   \n",
       "116055                166000        360       2012-02-01            04/2012   \n",
       "116056                169000        360       2012-02-01            04/2012   \n",
       "116057                252000        180       2012-01-01            03/2012   \n",
       "\n",
       "        loan_to_value  number_of_borrowers ...   m4  m5 m6  m7  m8  m9  m10  \\\n",
       "0                  95                  1.0 ...    0   0  0   1   0   0    0   \n",
       "1                  72                  1.0 ...    0   0  0   0   0   0    0   \n",
       "2                  49                  1.0 ...    0   0  0   0   0   0    0   \n",
       "3                  46                  2.0 ...    0   0  0   0   0   1    1   \n",
       "4                  80                  1.0 ...    3   4  5   6   7   8    9   \n",
       "5                  80                  1.0 ...    0   0  0   0   0   0    0   \n",
       "6                  95                  1.0 ...    0   0  0   0   0   0    0   \n",
       "7                  62                  1.0 ...    0   0  0   0   0   0    0   \n",
       "8                  76                  1.0 ...    0   1  0   1   0   1    2   \n",
       "9                  95                  2.0 ...    0   0  1   1   1   1    1   \n",
       "10                 90                  1.0 ...    0   0  0   0   0   0    0   \n",
       "11                 80                  1.0 ...    0   1  0   0   0   0    0   \n",
       "12                 80                  1.0 ...    0   0  0   0   0   0    0   \n",
       "13                 80                  1.0 ...    0   1  2   3   4   5    6   \n",
       "14                 80                  1.0 ...    0   0  0   0   0   0    0   \n",
       "15                 55                  1.0 ...    1   0  0   0   0   0    0   \n",
       "16                 80                  1.0 ...    0   0  0   0   0   1    1   \n",
       "17                 70                  1.0 ...    0   0  0   0   0   0    0   \n",
       "18                 65                  1.0 ...    0   1  0   0   0   0    0   \n",
       "19                 56                  1.0 ...    0   0  0   0   0   1    2   \n",
       "20                 50                  1.0 ...    1   0  0   0   0   0    0   \n",
       "21                 55                  1.0 ...    0   0  0   0   0   0    0   \n",
       "22                 62                  2.0 ...    0   0  1   0   1   1    0   \n",
       "23                 44                  1.0 ...    0   0  0   0   0   0    0   \n",
       "24                 75                  1.0 ...    0   0  0   0   0   0    0   \n",
       "25                 90                  2.0 ...    0   0  0   0   0   0    0   \n",
       "26                 85                  2.0 ...    0   0  0   0   0   0    0   \n",
       "27                 73                  2.0 ...    0   0  0   0   0   0    0   \n",
       "28                 58                  2.0 ...    0   0  1   0   0   0    0   \n",
       "29                 77                  2.0 ...    0   0  0   0   0   0    0   \n",
       "...               ...                  ... ...   ..  .. ..  ..  ..  ..  ...   \n",
       "116028             21                  2.0 ...    0   0  0   0   0   0    0   \n",
       "116029             52                  1.0 ...    0   0  0   0   0   0    0   \n",
       "116030             52                  2.0 ...    0   0  0   0   0   0    0   \n",
       "116031             95                  1.0 ...    0   0  0   0   0   0    0   \n",
       "116032             77                  2.0 ...    0   0  0   0   0   0    0   \n",
       "116033             64                  2.0 ...    0   0  0   0   0   0    0   \n",
       "116034             35                  1.0 ...    0   0  0   0   0   0    0   \n",
       "116035             80                  1.0 ...    0   0  0   0   0   0    0   \n",
       "116036             45                  2.0 ...    0   0  0   0   0   0    0   \n",
       "116037             66                  2.0 ...    0   0  0   0   0   0    0   \n",
       "116038             51                  1.0 ...    0   0  0   0   0   0    0   \n",
       "116039             34                  2.0 ...    0   0  0   0   0   0    0   \n",
       "116040             46                  1.0 ...    0   0  0   0   0   0    0   \n",
       "116041             90                  2.0 ...    0   0  0   0   0   0    0   \n",
       "116042             78                  1.0 ...    0   0  0   0   0   0    0   \n",
       "116043             42                  2.0 ...    0   0  0   0   0   0    0   \n",
       "116044             64                  2.0 ...    0   0  0   0   0   0    0   \n",
       "116045             45                  2.0 ...    0   0  0   0   0   0    0   \n",
       "116046             39                  2.0 ...    0   0  0   0   0   0    0   \n",
       "116047             80                  1.0 ...    0   0  0   0   0   0    0   \n",
       "116048             72                  1.0 ...    0   0  0   0   0   0    0   \n",
       "116049             66                  1.0 ...    0   0  0   0   0   0    0   \n",
       "116050             80                  2.0 ...    0   0  0   0   0   0    0   \n",
       "116051             70                  1.0 ...    0   0  0   0   0   0    0   \n",
       "116052             75                  1.0 ...    0   0  0   0   0   0    0   \n",
       "116053             88                  2.0 ...    0   0  0   0   0   0    0   \n",
       "116054             35                  1.0 ...    0   0  0   0   0   0    0   \n",
       "116055             58                  2.0 ...    0   0  0   0   0   0    0   \n",
       "116056             74                  2.0 ...    0   0  0   0   0   0    0   \n",
       "116057             29                  2.0 ...    0   0  0   0   0   0    0   \n",
       "\n",
       "        m11  m12  m13  \n",
       "0         0    0    1  \n",
       "1         1    0    1  \n",
       "2         0    0    1  \n",
       "3         1    1    1  \n",
       "4        10   11    1  \n",
       "5         0    0    1  \n",
       "6         0    0    1  \n",
       "7         0    0    1  \n",
       "8         0    1    1  \n",
       "9         2    2    1  \n",
       "10        0    1    1  \n",
       "11        1    1    1  \n",
       "12        0    0    1  \n",
       "13        7    8    1  \n",
       "14        0    0    1  \n",
       "15        1    1    1  \n",
       "16        2    3    1  \n",
       "17        0    0    1  \n",
       "18        0    1    1  \n",
       "19        2    2    1  \n",
       "20        0    0    1  \n",
       "21        0    1    1  \n",
       "22        0    1    1  \n",
       "23        0    1    1  \n",
       "24        1    1    1  \n",
       "25        1    2    1  \n",
       "26        0    1    1  \n",
       "27        0    0    1  \n",
       "28        0    0    1  \n",
       "29        0    0    1  \n",
       "...     ...  ...  ...  \n",
       "116028    0    0    0  \n",
       "116029    0    0    0  \n",
       "116030    0    0    0  \n",
       "116031    0    0    0  \n",
       "116032    0    0    0  \n",
       "116033    0    0    0  \n",
       "116034    0    0    0  \n",
       "116035    0    0    0  \n",
       "116036    0    0    0  \n",
       "116037    0    0    0  \n",
       "116038    0    0    0  \n",
       "116039    0    0    0  \n",
       "116040    0    0    0  \n",
       "116041    0    0    0  \n",
       "116042    0    0    0  \n",
       "116043    0    0    0  \n",
       "116044    0    0    0  \n",
       "116045    0    0    0  \n",
       "116046    0    0    0  \n",
       "116047    0    0    0  \n",
       "116048    0    0    0  \n",
       "116049    0    0    0  \n",
       "116050    0    0    0  \n",
       "116051    0    0    0  \n",
       "116052    0    0    0  \n",
       "116053    0    0    0  \n",
       "116054    0    0    0  \n",
       "116055    0    0    0  \n",
       "116056    0    0    0  \n",
       "116057    0    0    0  \n",
       "\n",
       "[116058 rows x 29 columns]>"
      ]
     },
     "execution_count": 153,
     "metadata": {},
     "output_type": "execute_result"
    }
   ],
   "source": [
    "train.pivot_table"
   ]
  },
  {
   "cell_type": "code",
   "execution_count": 154,
   "metadata": {},
   "outputs": [
    {
     "data": {
      "text/html": [
       "<div>\n",
       "<style scoped>\n",
       "    .dataframe tbody tr th:only-of-type {\n",
       "        vertical-align: middle;\n",
       "    }\n",
       "\n",
       "    .dataframe tbody tr th {\n",
       "        vertical-align: top;\n",
       "    }\n",
       "\n",
       "    .dataframe thead th {\n",
       "        text-align: right;\n",
       "    }\n",
       "</style>\n",
       "<table border=\"1\" class=\"dataframe\">\n",
       "  <thead>\n",
       "    <tr style=\"text-align: right;\">\n",
       "      <th></th>\n",
       "      <th>loan_id</th>\n",
       "      <th>source</th>\n",
       "      <th>financial_institution</th>\n",
       "      <th>interest_rate</th>\n",
       "      <th>unpaid_principal_bal</th>\n",
       "      <th>loan_term</th>\n",
       "      <th>origination_date</th>\n",
       "      <th>first_payment_date</th>\n",
       "      <th>loan_to_value</th>\n",
       "      <th>number_of_borrowers</th>\n",
       "      <th>...</th>\n",
       "      <th>m4</th>\n",
       "      <th>m5</th>\n",
       "      <th>m6</th>\n",
       "      <th>m7</th>\n",
       "      <th>m8</th>\n",
       "      <th>m9</th>\n",
       "      <th>m10</th>\n",
       "      <th>m11</th>\n",
       "      <th>m12</th>\n",
       "      <th>m13</th>\n",
       "    </tr>\n",
       "  </thead>\n",
       "  <tbody>\n",
       "    <tr>\n",
       "      <th>0</th>\n",
       "      <td>268055008619</td>\n",
       "      <td>Z</td>\n",
       "      <td>Turner, Baldwin and Rhodes</td>\n",
       "      <td>4.250</td>\n",
       "      <td>214000</td>\n",
       "      <td>360</td>\n",
       "      <td>2012-03-01</td>\n",
       "      <td>05/2012</td>\n",
       "      <td>95</td>\n",
       "      <td>1.0</td>\n",
       "      <td>...</td>\n",
       "      <td>0</td>\n",
       "      <td>0</td>\n",
       "      <td>0</td>\n",
       "      <td>1</td>\n",
       "      <td>0</td>\n",
       "      <td>0</td>\n",
       "      <td>0</td>\n",
       "      <td>0</td>\n",
       "      <td>0</td>\n",
       "      <td>1</td>\n",
       "    </tr>\n",
       "    <tr>\n",
       "      <th>1</th>\n",
       "      <td>672831657627</td>\n",
       "      <td>Y</td>\n",
       "      <td>Swanson, Newton and Miller</td>\n",
       "      <td>4.875</td>\n",
       "      <td>144000</td>\n",
       "      <td>360</td>\n",
       "      <td>2012-01-01</td>\n",
       "      <td>03/2012</td>\n",
       "      <td>72</td>\n",
       "      <td>1.0</td>\n",
       "      <td>...</td>\n",
       "      <td>0</td>\n",
       "      <td>0</td>\n",
       "      <td>0</td>\n",
       "      <td>0</td>\n",
       "      <td>0</td>\n",
       "      <td>0</td>\n",
       "      <td>0</td>\n",
       "      <td>1</td>\n",
       "      <td>0</td>\n",
       "      <td>1</td>\n",
       "    </tr>\n",
       "    <tr>\n",
       "      <th>2</th>\n",
       "      <td>742515242108</td>\n",
       "      <td>Z</td>\n",
       "      <td>Thornton-Davis</td>\n",
       "      <td>3.250</td>\n",
       "      <td>366000</td>\n",
       "      <td>180</td>\n",
       "      <td>2012-01-01</td>\n",
       "      <td>03/2012</td>\n",
       "      <td>49</td>\n",
       "      <td>1.0</td>\n",
       "      <td>...</td>\n",
       "      <td>0</td>\n",
       "      <td>0</td>\n",
       "      <td>0</td>\n",
       "      <td>0</td>\n",
       "      <td>0</td>\n",
       "      <td>0</td>\n",
       "      <td>0</td>\n",
       "      <td>0</td>\n",
       "      <td>0</td>\n",
       "      <td>1</td>\n",
       "    </tr>\n",
       "    <tr>\n",
       "      <th>3</th>\n",
       "      <td>601385667462</td>\n",
       "      <td>X</td>\n",
       "      <td>OTHER</td>\n",
       "      <td>4.750</td>\n",
       "      <td>135000</td>\n",
       "      <td>360</td>\n",
       "      <td>2012-02-01</td>\n",
       "      <td>04/2012</td>\n",
       "      <td>46</td>\n",
       "      <td>2.0</td>\n",
       "      <td>...</td>\n",
       "      <td>0</td>\n",
       "      <td>0</td>\n",
       "      <td>0</td>\n",
       "      <td>0</td>\n",
       "      <td>0</td>\n",
       "      <td>1</td>\n",
       "      <td>1</td>\n",
       "      <td>1</td>\n",
       "      <td>1</td>\n",
       "      <td>1</td>\n",
       "    </tr>\n",
       "    <tr>\n",
       "      <th>4</th>\n",
       "      <td>273870029961</td>\n",
       "      <td>X</td>\n",
       "      <td>OTHER</td>\n",
       "      <td>4.750</td>\n",
       "      <td>124000</td>\n",
       "      <td>360</td>\n",
       "      <td>2012-02-01</td>\n",
       "      <td>04/2012</td>\n",
       "      <td>80</td>\n",
       "      <td>1.0</td>\n",
       "      <td>...</td>\n",
       "      <td>3</td>\n",
       "      <td>4</td>\n",
       "      <td>5</td>\n",
       "      <td>6</td>\n",
       "      <td>7</td>\n",
       "      <td>8</td>\n",
       "      <td>9</td>\n",
       "      <td>10</td>\n",
       "      <td>11</td>\n",
       "      <td>1</td>\n",
       "    </tr>\n",
       "  </tbody>\n",
       "</table>\n",
       "<p>5 rows × 29 columns</p>\n",
       "</div>"
      ],
      "text/plain": [
       "        loan_id source       financial_institution  interest_rate  \\\n",
       "0  268055008619      Z  Turner, Baldwin and Rhodes          4.250   \n",
       "1  672831657627      Y  Swanson, Newton and Miller          4.875   \n",
       "2  742515242108      Z              Thornton-Davis          3.250   \n",
       "3  601385667462      X                       OTHER          4.750   \n",
       "4  273870029961      X                       OTHER          4.750   \n",
       "\n",
       "   unpaid_principal_bal  loan_term origination_date first_payment_date  \\\n",
       "0                214000        360       2012-03-01            05/2012   \n",
       "1                144000        360       2012-01-01            03/2012   \n",
       "2                366000        180       2012-01-01            03/2012   \n",
       "3                135000        360       2012-02-01            04/2012   \n",
       "4                124000        360       2012-02-01            04/2012   \n",
       "\n",
       "   loan_to_value  number_of_borrowers ...   m4  m5 m6  m7  m8  m9  m10  m11  \\\n",
       "0             95                  1.0 ...    0   0  0   1   0   0    0    0   \n",
       "1             72                  1.0 ...    0   0  0   0   0   0    0    1   \n",
       "2             49                  1.0 ...    0   0  0   0   0   0    0    0   \n",
       "3             46                  2.0 ...    0   0  0   0   0   1    1    1   \n",
       "4             80                  1.0 ...    3   4  5   6   7   8    9   10   \n",
       "\n",
       "   m12  m13  \n",
       "0    0    1  \n",
       "1    0    1  \n",
       "2    0    1  \n",
       "3    1    1  \n",
       "4   11    1  \n",
       "\n",
       "[5 rows x 29 columns]"
      ]
     },
     "execution_count": 154,
     "metadata": {},
     "output_type": "execute_result"
    }
   ],
   "source": [
    "train.head()"
   ]
  },
  {
   "cell_type": "code",
   "execution_count": 33,
   "metadata": {},
   "outputs": [
    {
     "data": {
      "text/plain": [
       "X    63858\n",
       "Y    37554\n",
       "Z    14646\n",
       "Name: source, dtype: int64"
      ]
     },
     "execution_count": 33,
     "metadata": {},
     "output_type": "execute_result"
    }
   ],
   "source": [
    "train.source.value_counts()"
   ]
  },
  {
   "cell_type": "code",
   "execution_count": 60,
   "metadata": {},
   "outputs": [],
   "source": [
    "newtrain = train.drop(['loan_id','source','financial_institution','origination_date','first_payment_date'],axis= 1)\n",
    "newtest = test.drop(['loan_id','source','financial_institution','origination_date','first_payment_date'],axis= 1)"
   ]
  },
  {
   "cell_type": "code",
   "execution_count": 61,
   "metadata": {},
   "outputs": [
    {
     "data": {
      "text/plain": [
       "(116058, 24)"
      ]
     },
     "execution_count": 61,
     "metadata": {},
     "output_type": "execute_result"
    }
   ],
   "source": [
    "newtrain.shape"
   ]
  },
  {
   "cell_type": "code",
   "execution_count": 62,
   "metadata": {},
   "outputs": [
    {
     "data": {
      "text/plain": [
       "(35866, 23)"
      ]
     },
     "execution_count": 62,
     "metadata": {},
     "output_type": "execute_result"
    }
   ],
   "source": [
    "newtest.shape\n"
   ]
  },
  {
   "cell_type": "code",
   "execution_count": 101,
   "metadata": {},
   "outputs": [],
   "source": [
    "ohe_train = pd.get_dummies(newtrain)"
   ]
  },
  {
   "cell_type": "code",
   "execution_count": 102,
   "metadata": {},
   "outputs": [],
   "source": [
    "ohe_test = pd.get_dummies(newtest)"
   ]
  },
  {
   "cell_type": "code",
   "execution_count": 65,
   "metadata": {},
   "outputs": [
    {
     "name": "stdout",
     "output_type": "stream",
     "text": [
      "(35866, 25)\n",
      "(116058, 26)\n"
     ]
    }
   ],
   "source": [
    "print(ohe_test.shape)\n",
    "print(ohe_train.shape)"
   ]
  },
  {
   "cell_type": "code",
   "execution_count": 66,
   "metadata": {},
   "outputs": [],
   "source": [
    "from sklearn.preprocessing import StandardScaler"
   ]
  },
  {
   "cell_type": "code",
   "execution_count": 67,
   "metadata": {},
   "outputs": [],
   "source": [
    "sc = StandardScaler()"
   ]
  },
  {
   "cell_type": "code",
   "execution_count": 103,
   "metadata": {},
   "outputs": [],
   "source": [
    "x = pd.DataFrame(sc.fit_transform(ohe_train.drop(\"m13\",axis = 1)))"
   ]
  },
  {
   "cell_type": "code",
   "execution_count": 104,
   "metadata": {},
   "outputs": [],
   "source": [
    "y = ohe_train.m13"
   ]
  },
  {
   "cell_type": "code",
   "execution_count": 105,
   "metadata": {},
   "outputs": [],
   "source": [
    "scaled_test = pd.DataFrame(sc.fit_transform(ohe_test),columns = ohe_test.columns)"
   ]
  },
  {
   "cell_type": "code",
   "execution_count": 106,
   "metadata": {},
   "outputs": [],
   "source": [
    "from sklearn.tree import DecisionTreeClassifier"
   ]
  },
  {
   "cell_type": "code",
   "execution_count": 107,
   "metadata": {},
   "outputs": [],
   "source": [
    "dtree = DecisionTreeClassifier()"
   ]
  },
  {
   "cell_type": "code",
   "execution_count": 108,
   "metadata": {},
   "outputs": [],
   "source": [
    "dtree = DecisionTreeClassifier()"
   ]
  },
  {
   "cell_type": "code",
   "execution_count": 109,
   "metadata": {},
   "outputs": [],
   "source": [
    "modal = dtree.fit(x,y)"
   ]
  },
  {
   "cell_type": "code",
   "execution_count": 110,
   "metadata": {},
   "outputs": [],
   "source": [
    "pred = modal.predict(scaled_test)"
   ]
  },
  {
   "cell_type": "code",
   "execution_count": 111,
   "metadata": {},
   "outputs": [
    {
     "data": {
      "text/plain": [
       "array([0, 0, 0, ..., 0, 0, 0], dtype=int64)"
      ]
     },
     "execution_count": 111,
     "metadata": {},
     "output_type": "execute_result"
    }
   ],
   "source": [
    "pred"
   ]
  },
  {
   "cell_type": "code",
   "execution_count": 112,
   "metadata": {},
   "outputs": [],
   "source": [
    "sol = pd.DataFrame({\"loan_id\":test.loan_id,\"m13\":pred})"
   ]
  },
  {
   "cell_type": "code",
   "execution_count": 113,
   "metadata": {},
   "outputs": [
    {
     "data": {
      "text/html": [
       "<div>\n",
       "<style scoped>\n",
       "    .dataframe tbody tr th:only-of-type {\n",
       "        vertical-align: middle;\n",
       "    }\n",
       "\n",
       "    .dataframe tbody tr th {\n",
       "        vertical-align: top;\n",
       "    }\n",
       "\n",
       "    .dataframe thead th {\n",
       "        text-align: right;\n",
       "    }\n",
       "</style>\n",
       "<table border=\"1\" class=\"dataframe\">\n",
       "  <thead>\n",
       "    <tr style=\"text-align: right;\">\n",
       "      <th></th>\n",
       "      <th>loan_id</th>\n",
       "      <th>m13</th>\n",
       "    </tr>\n",
       "  </thead>\n",
       "  <tbody>\n",
       "    <tr>\n",
       "      <th>0</th>\n",
       "      <td>1</td>\n",
       "      <td>0</td>\n",
       "    </tr>\n",
       "    <tr>\n",
       "      <th>1</th>\n",
       "      <td>2</td>\n",
       "      <td>0</td>\n",
       "    </tr>\n",
       "    <tr>\n",
       "      <th>2</th>\n",
       "      <td>3</td>\n",
       "      <td>0</td>\n",
       "    </tr>\n",
       "    <tr>\n",
       "      <th>3</th>\n",
       "      <td>4</td>\n",
       "      <td>0</td>\n",
       "    </tr>\n",
       "    <tr>\n",
       "      <th>4</th>\n",
       "      <td>5</td>\n",
       "      <td>0</td>\n",
       "    </tr>\n",
       "  </tbody>\n",
       "</table>\n",
       "</div>"
      ],
      "text/plain": [
       "   loan_id  m13\n",
       "0        1    0\n",
       "1        2    0\n",
       "2        3    0\n",
       "3        4    0\n",
       "4        5    0"
      ]
     },
     "execution_count": 113,
     "metadata": {},
     "output_type": "execute_result"
    }
   ],
   "source": [
    "sol.head()"
   ]
  },
  {
   "cell_type": "markdown",
   "metadata": {},
   "source": [
    "  # finding out with the ensemble methods "
   ]
  },
  {
   "cell_type": "code",
   "execution_count": 176,
   "metadata": {},
   "outputs": [],
   "source": [
    "# WHAT IS ENSEMBLE METHODS : ENSEMBLE METHODS ARE COMBINE MORE ALGORUTHMS , WHICH IS USED TO REDUCE THE BIAS\n",
    "# THE DIFFERENT ENSEMBLE MODELS ARE BAGGING AND BOOSTING\n",
    "# BAGGING : BAGGING IS USED TO REDUCE THE BIAS\n",
    "# BOOSTING : BOOSTING IS TO REDUCE THE VARIANCE.\n",
    "# RANDOMFOREST : RANDOMFOREST IS WORKED BASED ON DECISIONTREE"
   ]
  },
  {
   "cell_type": "code",
   "execution_count": 114,
   "metadata": {},
   "outputs": [],
   "source": [
    "from sklearn.ensemble import RandomForestClassifier"
   ]
  },
  {
   "cell_type": "code",
   "execution_count": 115,
   "metadata": {},
   "outputs": [],
   "source": [
    "rf = RandomForestClassifier()"
   ]
  },
  {
   "cell_type": "code",
   "execution_count": 116,
   "metadata": {},
   "outputs": [
    {
     "name": "stderr",
     "output_type": "stream",
     "text": [
      "C:\\Users\\Lenovo\\Anaconda3\\lib\\site-packages\\sklearn\\ensemble\\forest.py:245: FutureWarning: The default value of n_estimators will change from 10 in version 0.20 to 100 in 0.22.\n",
      "  \"10 in version 0.20 to 100 in 0.22.\", FutureWarning)\n"
     ]
    }
   ],
   "source": [
    "mod  = rf.fit(x,y)"
   ]
  },
  {
   "cell_type": "code",
   "execution_count": 117,
   "metadata": {},
   "outputs": [],
   "source": [
    "predictions = mod.predict(scaled_test)"
   ]
  },
  {
   "cell_type": "code",
   "execution_count": 118,
   "metadata": {},
   "outputs": [
    {
     "data": {
      "text/plain": [
       "array([0, 0, 0, ..., 0, 0, 0], dtype=int64)"
      ]
     },
     "execution_count": 118,
     "metadata": {},
     "output_type": "execute_result"
    }
   ],
   "source": [
    "predictions"
   ]
  },
  {
   "cell_type": "code",
   "execution_count": 119,
   "metadata": {},
   "outputs": [],
   "source": [
    "sol = pd.DataFrame({\"loan_id\":test.loan_id,\"m13\":predictions})"
   ]
  },
  {
   "cell_type": "code",
   "execution_count": 120,
   "metadata": {},
   "outputs": [
    {
     "data": {
      "text/html": [
       "<div>\n",
       "<style scoped>\n",
       "    .dataframe tbody tr th:only-of-type {\n",
       "        vertical-align: middle;\n",
       "    }\n",
       "\n",
       "    .dataframe tbody tr th {\n",
       "        vertical-align: top;\n",
       "    }\n",
       "\n",
       "    .dataframe thead th {\n",
       "        text-align: right;\n",
       "    }\n",
       "</style>\n",
       "<table border=\"1\" class=\"dataframe\">\n",
       "  <thead>\n",
       "    <tr style=\"text-align: right;\">\n",
       "      <th></th>\n",
       "      <th>loan_id</th>\n",
       "      <th>m13</th>\n",
       "    </tr>\n",
       "  </thead>\n",
       "  <tbody>\n",
       "    <tr>\n",
       "      <th>0</th>\n",
       "      <td>1</td>\n",
       "      <td>0</td>\n",
       "    </tr>\n",
       "    <tr>\n",
       "      <th>1</th>\n",
       "      <td>2</td>\n",
       "      <td>0</td>\n",
       "    </tr>\n",
       "    <tr>\n",
       "      <th>2</th>\n",
       "      <td>3</td>\n",
       "      <td>0</td>\n",
       "    </tr>\n",
       "    <tr>\n",
       "      <th>3</th>\n",
       "      <td>4</td>\n",
       "      <td>0</td>\n",
       "    </tr>\n",
       "    <tr>\n",
       "      <th>4</th>\n",
       "      <td>5</td>\n",
       "      <td>0</td>\n",
       "    </tr>\n",
       "  </tbody>\n",
       "</table>\n",
       "</div>"
      ],
      "text/plain": [
       "   loan_id  m13\n",
       "0        1    0\n",
       "1        2    0\n",
       "2        3    0\n",
       "3        4    0\n",
       "4        5    0"
      ]
     },
     "execution_count": 120,
     "metadata": {},
     "output_type": "execute_result"
    }
   ],
   "source": [
    "sol.head()"
   ]
  },
  {
   "cell_type": "code",
   "execution_count": 125,
   "metadata": {},
   "outputs": [
    {
     "data": {
      "text/plain": [
       "array([0.06617245, 0.13517124, 0.02049967, 0.07234228, 0.007406  ,\n",
       "       0.09175142, 0.11804337, 0.01258537, 0.03676117, 0.00149383,\n",
       "       0.00568437, 0.00663325, 0.004039  , 0.00985718, 0.01466527,\n",
       "       0.00786994, 0.01905982, 0.03366798, 0.03758366, 0.04484747,\n",
       "       0.05942375, 0.16258835, 0.0098778 , 0.0101432 , 0.01183215])"
      ]
     },
     "execution_count": 125,
     "metadata": {},
     "output_type": "execute_result"
    }
   ],
   "source": [
    "rf.feature_importances_"
   ]
  },
  {
   "cell_type": "code",
   "execution_count": 166,
   "metadata": {},
   "outputs": [],
   "source": [
    "# finding out with the voting"
   ]
  },
  {
   "cell_type": "code",
   "execution_count": 167,
   "metadata": {},
   "outputs": [],
   "source": [
    "from sklearn.ensemble import VotingClassifier"
   ]
  },
  {
   "cell_type": "code",
   "execution_count": 169,
   "metadata": {},
   "outputs": [],
   "source": [
    "vc = VotingClassifier(estimators=[(\"rf\" , rf) , (\"dtree\" , dtree)])"
   ]
  },
  {
   "cell_type": "code",
   "execution_count": 170,
   "metadata": {},
   "outputs": [],
   "source": [
    "modal = vc.fit(x,y)"
   ]
  },
  {
   "cell_type": "code",
   "execution_count": 171,
   "metadata": {},
   "outputs": [],
   "source": [
    "pre = modal.predict(scaled_test)"
   ]
  },
  {
   "cell_type": "code",
   "execution_count": 172,
   "metadata": {},
   "outputs": [
    {
     "data": {
      "text/plain": [
       "array([0, 0, 0, ..., 0, 0, 0], dtype=int64)"
      ]
     },
     "execution_count": 172,
     "metadata": {},
     "output_type": "execute_result"
    }
   ],
   "source": [
    "pre"
   ]
  },
  {
   "cell_type": "code",
   "execution_count": 173,
   "metadata": {},
   "outputs": [],
   "source": [
    "sol = pd.DataFrame({\"loan_id\":test.loan_id,\"m13\":pre})"
   ]
  },
  {
   "cell_type": "code",
   "execution_count": 174,
   "metadata": {},
   "outputs": [
    {
     "data": {
      "text/html": [
       "<div>\n",
       "<style scoped>\n",
       "    .dataframe tbody tr th:only-of-type {\n",
       "        vertical-align: middle;\n",
       "    }\n",
       "\n",
       "    .dataframe tbody tr th {\n",
       "        vertical-align: top;\n",
       "    }\n",
       "\n",
       "    .dataframe thead th {\n",
       "        text-align: right;\n",
       "    }\n",
       "</style>\n",
       "<table border=\"1\" class=\"dataframe\">\n",
       "  <thead>\n",
       "    <tr style=\"text-align: right;\">\n",
       "      <th></th>\n",
       "      <th>loan_id</th>\n",
       "      <th>m13</th>\n",
       "    </tr>\n",
       "  </thead>\n",
       "  <tbody>\n",
       "    <tr>\n",
       "      <th>0</th>\n",
       "      <td>1</td>\n",
       "      <td>0</td>\n",
       "    </tr>\n",
       "    <tr>\n",
       "      <th>1</th>\n",
       "      <td>2</td>\n",
       "      <td>0</td>\n",
       "    </tr>\n",
       "    <tr>\n",
       "      <th>2</th>\n",
       "      <td>3</td>\n",
       "      <td>0</td>\n",
       "    </tr>\n",
       "    <tr>\n",
       "      <th>3</th>\n",
       "      <td>4</td>\n",
       "      <td>0</td>\n",
       "    </tr>\n",
       "    <tr>\n",
       "      <th>4</th>\n",
       "      <td>5</td>\n",
       "      <td>0</td>\n",
       "    </tr>\n",
       "  </tbody>\n",
       "</table>\n",
       "</div>"
      ],
      "text/plain": [
       "   loan_id  m13\n",
       "0        1    0\n",
       "1        2    0\n",
       "2        3    0\n",
       "3        4    0\n",
       "4        5    0"
      ]
     },
     "execution_count": 174,
     "metadata": {},
     "output_type": "execute_result"
    }
   ],
   "source": [
    "sol.head()"
   ]
  },
  {
   "cell_type": "code",
   "execution_count": 175,
   "metadata": {},
   "outputs": [],
   "source": [
    "sol.to_csv(\"Voting.csv\",index = False )"
   ]
  },
  {
   "cell_type": "code",
   "execution_count": null,
   "metadata": {},
   "outputs": [],
   "source": []
  }
 ],
 "metadata": {
  "kernelspec": {
   "display_name": "Python 3",
   "language": "python",
   "name": "python3"
  },
  "language_info": {
   "codemirror_mode": {
    "name": "ipython",
    "version": 3
   },
   "file_extension": ".py",
   "mimetype": "text/x-python",
   "name": "python",
   "nbconvert_exporter": "python",
   "pygments_lexer": "ipython3",
   "version": "3.7.1"
  }
 },
 "nbformat": 4,
 "nbformat_minor": 2
}
